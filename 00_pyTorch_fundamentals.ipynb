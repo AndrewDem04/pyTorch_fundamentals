{
  "nbformat": 4,
  "nbformat_minor": 0,
  "metadata": {
    "colab": {
      "provenance": [],
      "authorship_tag": "ABX9TyOVTj1U63iNR9ZLur5OdDhA",
      "include_colab_link": true
    },
    "kernelspec": {
      "name": "python3",
      "display_name": "Python 3"
    },
    "language_info": {
      "name": "python"
    }
  },
  "cells": [
    {
      "cell_type": "markdown",
      "metadata": {
        "id": "view-in-github",
        "colab_type": "text"
      },
      "source": [
        "<a href=\"https://colab.research.google.com/github/AndrewDem04/pyTorch_fundamentals/blob/main/00_pyTorch_fundamentals.ipynb\" target=\"_parent\"><img src=\"https://colab.research.google.com/assets/colab-badge.svg\" alt=\"Open In Colab\"/></a>"
      ]
    },
    {
      "cell_type": "code",
      "execution_count": 5,
      "metadata": {
        "colab": {
          "base_uri": "https://localhost:8080/"
        },
        "id": "8vvQHGdliYSw",
        "outputId": "726461c5-c049-4469-c3f6-c6d2c12e4c75"
      },
      "outputs": [
        {
          "output_type": "stream",
          "name": "stdout",
          "text": [
            "2.6.0+cu124\n"
          ]
        }
      ],
      "source": [
        "import torch\n",
        "print(torch.__version__)"
      ]
    },
    {
      "cell_type": "markdown",
      "source": [
        "## Introduction to Tensors\n"
      ],
      "metadata": {
        "id": "_DARb4tckgfN"
      }
    },
    {
      "cell_type": "markdown",
      "source": [
        "### scaral"
      ],
      "metadata": {
        "id": "gtlDV4yB6u1_"
      }
    },
    {
      "cell_type": "code",
      "source": [
        "# we have difrente types of tensors\n",
        "#You must see the -- torch.tensor documentation and what tensor is\n",
        "# scaral\n",
        "\n",
        "scalar = torch.tensor(7)\n",
        "scalar.item()"
      ],
      "metadata": {
        "colab": {
          "base_uri": "https://localhost:8080/"
        },
        "id": "lT65Tlmcjw1h",
        "outputId": "71608ee3-cbc9-4666-893f-1308f315a069"
      },
      "execution_count": 6,
      "outputs": [
        {
          "output_type": "execute_result",
          "data": {
            "text/plain": [
              "7"
            ]
          },
          "metadata": {},
          "execution_count": 6
        }
      ]
    },
    {
      "cell_type": "code",
      "source": [],
      "metadata": {
        "id": "_QshjnvJ66QL"
      },
      "execution_count": 6,
      "outputs": []
    },
    {
      "cell_type": "markdown",
      "source": [
        "### vector"
      ],
      "metadata": {
        "id": "YV5XQEq86fmd"
      }
    },
    {
      "cell_type": "code",
      "source": [
        "# vector\n",
        "vector = torch.tensor([7,7])\n",
        "vector"
      ],
      "metadata": {
        "colab": {
          "base_uri": "https://localhost:8080/"
        },
        "id": "_zvARckQ6rph",
        "outputId": "8a664b8e-5298-4e8f-f2fb-40b09f0d6030"
      },
      "execution_count": 7,
      "outputs": [
        {
          "output_type": "execute_result",
          "data": {
            "text/plain": [
              "tensor([7, 7])"
            ]
          },
          "metadata": {},
          "execution_count": 7
        }
      ]
    },
    {
      "cell_type": "code",
      "source": [
        "# how meny dimension it have --ndim\n",
        "vector.ndim"
      ],
      "metadata": {
        "colab": {
          "base_uri": "https://localhost:8080/"
        },
        "id": "tEL2nx-q67z9",
        "outputId": "74b57796-7455-4aca-fee5-9a6e3a3e9c29"
      },
      "execution_count": 8,
      "outputs": [
        {
          "output_type": "execute_result",
          "data": {
            "text/plain": [
              "1"
            ]
          },
          "metadata": {},
          "execution_count": 8
        }
      ]
    },
    {
      "cell_type": "code",
      "source": [
        "vector.shape"
      ],
      "metadata": {
        "colab": {
          "base_uri": "https://localhost:8080/"
        },
        "id": "HMuo2-jo7UNk",
        "outputId": "81b1146e-fa7f-4a7e-ef00-d0c0cc1f1373"
      },
      "execution_count": 9,
      "outputs": [
        {
          "output_type": "execute_result",
          "data": {
            "text/plain": [
              "torch.Size([2])"
            ]
          },
          "metadata": {},
          "execution_count": 9
        }
      ]
    },
    {
      "cell_type": "code",
      "source": [
        "MATRIX = torch.tensor([[7,8],[9,10]])"
      ],
      "metadata": {
        "id": "Fu_HjQw87exu"
      },
      "execution_count": 10,
      "outputs": []
    },
    {
      "cell_type": "code",
      "source": [
        "MATRIX.ndim"
      ],
      "metadata": {
        "colab": {
          "base_uri": "https://localhost:8080/"
        },
        "id": "zhhgxP-B7zGU",
        "outputId": "ff15e8c6-d807-40c7-f0f7-9c6527098618"
      },
      "execution_count": 11,
      "outputs": [
        {
          "output_type": "execute_result",
          "data": {
            "text/plain": [
              "2"
            ]
          },
          "metadata": {},
          "execution_count": 11
        }
      ]
    },
    {
      "cell_type": "code",
      "source": [
        "MATRIX[1]"
      ],
      "metadata": {
        "colab": {
          "base_uri": "https://localhost:8080/"
        },
        "id": "ah9NbXtw73pD",
        "outputId": "f5a9bce6-26f4-457c-cd2b-0724c6e28f46"
      },
      "execution_count": 12,
      "outputs": [
        {
          "output_type": "execute_result",
          "data": {
            "text/plain": [
              "tensor([ 9, 10])"
            ]
          },
          "metadata": {},
          "execution_count": 12
        }
      ]
    },
    {
      "cell_type": "code",
      "source": [
        "MATRIX.shape"
      ],
      "metadata": {
        "colab": {
          "base_uri": "https://localhost:8080/"
        },
        "id": "62bwVwsn8MEB",
        "outputId": "8bc4d9c3-13ed-4cd8-8717-4ba0b3d89677"
      },
      "execution_count": 13,
      "outputs": [
        {
          "output_type": "execute_result",
          "data": {
            "text/plain": [
              "torch.Size([2, 2])"
            ]
          },
          "metadata": {},
          "execution_count": 13
        }
      ]
    },
    {
      "cell_type": "code",
      "source": [
        "TENSOR = torch.tensor([[[1,2,3],[4,5,6],[7,8,9]]])"
      ],
      "metadata": {
        "id": "fKmTXO6R9v0v"
      },
      "execution_count": 14,
      "outputs": []
    },
    {
      "cell_type": "code",
      "source": [
        "TENSOR.ndim"
      ],
      "metadata": {
        "colab": {
          "base_uri": "https://localhost:8080/"
        },
        "id": "j1RLXoE9-GI5",
        "outputId": "63eddb18-588d-4885-fce2-dca0a4034f18"
      },
      "execution_count": 15,
      "outputs": [
        {
          "output_type": "execute_result",
          "data": {
            "text/plain": [
              "3"
            ]
          },
          "metadata": {},
          "execution_count": 15
        }
      ]
    },
    {
      "cell_type": "code",
      "source": [
        "TENSOR.shape"
      ],
      "metadata": {
        "colab": {
          "base_uri": "https://localhost:8080/"
        },
        "id": "k1lvYlbJ-LRj",
        "outputId": "af58a420-75b5-434e-d3e6-086a87176b4a"
      },
      "execution_count": 16,
      "outputs": [
        {
          "output_type": "execute_result",
          "data": {
            "text/plain": [
              "torch.Size([1, 3, 3])"
            ]
          },
          "metadata": {},
          "execution_count": 16
        }
      ]
    },
    {
      "cell_type": "markdown",
      "source": [
        "###### Lets create one more tensor and expiramend with the ndim , shape and the indexing"
      ],
      "metadata": {
        "id": "1dTSbvzN_xpQ"
      }
    },
    {
      "cell_type": "code",
      "source": [
        "MYTENSOR = torch.tensor([[[1,2,3],[5,6,8],[2,5,6]],[[4,2,3],[5,66,8],[2,5,6]]])"
      ],
      "metadata": {
        "id": "U1Mqowv5AOSH"
      },
      "execution_count": 17,
      "outputs": []
    },
    {
      "cell_type": "code",
      "source": [
        "MYTENSOR.shape"
      ],
      "metadata": {
        "colab": {
          "base_uri": "https://localhost:8080/"
        },
        "id": "Ly29dUlYBBI4",
        "outputId": "ba002c63-c6f7-46b6-f756-179301ddd53a"
      },
      "execution_count": 18,
      "outputs": [
        {
          "output_type": "execute_result",
          "data": {
            "text/plain": [
              "torch.Size([2, 3, 3])"
            ]
          },
          "metadata": {},
          "execution_count": 18
        }
      ]
    },
    {
      "cell_type": "code",
      "source": [
        "MYTENSOR.ndim"
      ],
      "metadata": {
        "colab": {
          "base_uri": "https://localhost:8080/"
        },
        "id": "3YI1yRvkBHMI",
        "outputId": "60384143-7c45-4625-f6bc-51c627ce25ac"
      },
      "execution_count": 19,
      "outputs": [
        {
          "output_type": "execute_result",
          "data": {
            "text/plain": [
              "3"
            ]
          },
          "metadata": {},
          "execution_count": 19
        }
      ]
    },
    {
      "cell_type": "code",
      "source": [
        "MYTENSOR[0]"
      ],
      "metadata": {
        "colab": {
          "base_uri": "https://localhost:8080/"
        },
        "id": "1JrqllM7BLD3",
        "outputId": "7a59c52d-8a24-47c4-c531-30fb602e685a"
      },
      "execution_count": 20,
      "outputs": [
        {
          "output_type": "execute_result",
          "data": {
            "text/plain": [
              "tensor([[1, 2, 3],\n",
              "        [5, 6, 8],\n",
              "        [2, 5, 6]])"
            ]
          },
          "metadata": {},
          "execution_count": 20
        }
      ]
    },
    {
      "cell_type": "code",
      "source": [
        "MYTENSOR[1]"
      ],
      "metadata": {
        "colab": {
          "base_uri": "https://localhost:8080/"
        },
        "id": "awMg4_zpBQ1j",
        "outputId": "d37a401a-0a7d-4296-cd50-8453e34bcbfb"
      },
      "execution_count": 21,
      "outputs": [
        {
          "output_type": "execute_result",
          "data": {
            "text/plain": [
              "tensor([[ 4,  2,  3],\n",
              "        [ 5, 66,  8],\n",
              "        [ 2,  5,  6]])"
            ]
          },
          "metadata": {},
          "execution_count": 21
        }
      ]
    },
    {
      "cell_type": "code",
      "source": [
        "MYTENSOR[1,1]"
      ],
      "metadata": {
        "colab": {
          "base_uri": "https://localhost:8080/"
        },
        "id": "VwLN6PfkBivQ",
        "outputId": "b5631e3c-d416-43f5-963b-f482dc42fd9a"
      },
      "execution_count": 22,
      "outputs": [
        {
          "output_type": "execute_result",
          "data": {
            "text/plain": [
              "tensor([ 5, 66,  8])"
            ]
          },
          "metadata": {},
          "execution_count": 22
        }
      ]
    },
    {
      "cell_type": "markdown",
      "source": [
        "### Random tensors\n",
        "\n",
        "Random tensors are important because many neural networks:\n",
        "\n",
        "-start with random numbers\n",
        "-look at data\n",
        "-update random numbers\n",
        "-look at data\n",
        "-update"
      ],
      "metadata": {
        "id": "CrluA3hiCR6y"
      }
    },
    {
      "cell_type": "code",
      "source": [
        "# create random tensor size (3,4)\n",
        "\n",
        "random_tensor = torch.rand(3,4)\n",
        "random_tensor"
      ],
      "metadata": {
        "colab": {
          "base_uri": "https://localhost:8080/"
        },
        "id": "-5bxbUxtCQFW",
        "outputId": "42374cc1-be94-4465-d88f-1bae98f6330e"
      },
      "execution_count": 23,
      "outputs": [
        {
          "output_type": "execute_result",
          "data": {
            "text/plain": [
              "tensor([[0.5189, 0.2800, 0.8231, 0.2387],\n",
              "        [0.6133, 0.9284, 0.7183, 0.3298],\n",
              "        [0.7033, 0.7990, 0.6061, 0.3048]])"
            ]
          },
          "metadata": {},
          "execution_count": 23
        }
      ]
    },
    {
      "cell_type": "code",
      "source": [
        "random_tensor.ndim"
      ],
      "metadata": {
        "colab": {
          "base_uri": "https://localhost:8080/"
        },
        "id": "2z-cY2lFDAS4",
        "outputId": "b6ce8250-2500-491c-8315-8ecf34d7f311"
      },
      "execution_count": 24,
      "outputs": [
        {
          "output_type": "execute_result",
          "data": {
            "text/plain": [
              "2"
            ]
          },
          "metadata": {},
          "execution_count": 24
        }
      ]
    },
    {
      "cell_type": "code",
      "source": [
        "random_tensor.shape"
      ],
      "metadata": {
        "colab": {
          "base_uri": "https://localhost:8080/"
        },
        "id": "sgs4CFlNDAfR",
        "outputId": "19d59f46-fbc9-49a0-f05d-423c109f96d6"
      },
      "execution_count": 25,
      "outputs": [
        {
          "output_type": "execute_result",
          "data": {
            "text/plain": [
              "torch.Size([3, 4])"
            ]
          },
          "metadata": {},
          "execution_count": 25
        }
      ]
    },
    {
      "cell_type": "code",
      "source": [
        "# Create a random tensor with similar shape to an image tensor\n",
        "random_image_size_tensor = torch.rand(size=(224,224,3)) # height,width , color channels (R,G,B)\n",
        "random_image_size_tensor"
      ],
      "metadata": {
        "colab": {
          "base_uri": "https://localhost:8080/"
        },
        "id": "Sn6Jqg0cDAob",
        "outputId": "1d08b4be-129b-417f-f934-0ff08251487b"
      },
      "execution_count": 26,
      "outputs": [
        {
          "output_type": "execute_result",
          "data": {
            "text/plain": [
              "tensor([[[0.3364, 0.5157, 0.8356],\n",
              "         [0.7282, 0.8302, 0.1320],\n",
              "         [0.4649, 0.7586, 0.1817],\n",
              "         ...,\n",
              "         [0.4224, 0.9292, 0.4512],\n",
              "         [0.0296, 0.9719, 0.5384],\n",
              "         [0.3920, 0.5761, 0.3265]],\n",
              "\n",
              "        [[0.2192, 0.5566, 0.3761],\n",
              "         [0.0623, 0.8876, 0.7262],\n",
              "         [0.8166, 0.3185, 0.4224],\n",
              "         ...,\n",
              "         [0.5283, 0.7826, 0.5625],\n",
              "         [0.0179, 0.3523, 0.1841],\n",
              "         [0.0932, 0.2120, 0.3800]],\n",
              "\n",
              "        [[0.7327, 0.2407, 0.6035],\n",
              "         [0.7227, 0.3092, 0.9654],\n",
              "         [0.1109, 0.4617, 0.9259],\n",
              "         ...,\n",
              "         [0.3911, 0.4456, 0.1672],\n",
              "         [0.2775, 0.1449, 0.3556],\n",
              "         [0.2060, 0.0435, 0.9807]],\n",
              "\n",
              "        ...,\n",
              "\n",
              "        [[0.3944, 0.7507, 0.5664],\n",
              "         [0.5881, 0.1986, 0.8681],\n",
              "         [0.2893, 0.8398, 0.5197],\n",
              "         ...,\n",
              "         [0.0955, 0.6978, 0.2235],\n",
              "         [0.5745, 0.4998, 0.0962],\n",
              "         [0.8517, 0.6628, 0.9497]],\n",
              "\n",
              "        [[0.5962, 0.0889, 0.6125],\n",
              "         [0.2651, 0.9899, 0.6367],\n",
              "         [0.3268, 0.7846, 0.2483],\n",
              "         ...,\n",
              "         [0.1080, 0.4907, 0.1100],\n",
              "         [0.4709, 0.8583, 0.0217],\n",
              "         [0.8787, 0.1016, 0.2395]],\n",
              "\n",
              "        [[0.1780, 0.8281, 0.1326],\n",
              "         [0.4243, 0.2928, 0.6483],\n",
              "         [0.9991, 0.8564, 0.2979],\n",
              "         ...,\n",
              "         [0.8395, 0.5850, 0.9253],\n",
              "         [0.7319, 0.6728, 0.4669],\n",
              "         [0.6834, 0.0663, 0.5052]]])"
            ]
          },
          "metadata": {},
          "execution_count": 26
        }
      ]
    },
    {
      "cell_type": "code",
      "source": [
        "random_image_size_tensor.shape , random_image_size_tensor.ndim"
      ],
      "metadata": {
        "colab": {
          "base_uri": "https://localhost:8080/"
        },
        "id": "enM-PeScDn6l",
        "outputId": "cf04e915-7444-4512-8f36-c07a97a59724"
      },
      "execution_count": 27,
      "outputs": [
        {
          "output_type": "execute_result",
          "data": {
            "text/plain": [
              "(torch.Size([224, 224, 3]), 3)"
            ]
          },
          "metadata": {},
          "execution_count": 27
        }
      ]
    },
    {
      "cell_type": "code",
      "source": [
        "# lets create my own random tensor\n",
        "\n",
        "myrandom_tensor = torch.rand(34,3,3,43)\n",
        "myrandom_tensor"
      ],
      "metadata": {
        "id": "j6qScIU3EkYf",
        "outputId": "50848579-24dd-4559-8e44-795a7fdb9b12",
        "colab": {
          "base_uri": "https://localhost:8080/"
        }
      },
      "execution_count": 28,
      "outputs": [
        {
          "output_type": "execute_result",
          "data": {
            "text/plain": [
              "tensor([[[[0.0176, 0.4075, 0.9305,  ..., 0.7108, 0.7272, 0.3177],\n",
              "          [0.5246, 0.1057, 0.0845,  ..., 0.9683, 0.5629, 0.5423],\n",
              "          [0.9099, 0.7200, 0.0933,  ..., 0.4691, 0.3516, 0.2542]],\n",
              "\n",
              "         [[0.1189, 0.1662, 0.0125,  ..., 0.4596, 0.9230, 0.3520],\n",
              "          [0.3307, 0.4351, 0.1413,  ..., 0.5952, 0.3462, 0.2750],\n",
              "          [0.4366, 0.6538, 0.7617,  ..., 0.3785, 0.3703, 0.8148]],\n",
              "\n",
              "         [[0.6454, 0.8395, 0.7086,  ..., 0.9309, 0.1436, 0.0252],\n",
              "          [0.9286, 0.2622, 0.0319,  ..., 0.9961, 0.0462, 0.3106],\n",
              "          [0.8597, 0.0698, 0.8274,  ..., 0.0946, 0.1970, 0.1977]]],\n",
              "\n",
              "\n",
              "        [[[0.8673, 0.9415, 0.9451,  ..., 0.3057, 0.8595, 0.7060],\n",
              "          [0.8027, 0.3189, 0.2167,  ..., 0.0700, 0.0573, 0.9931],\n",
              "          [0.3854, 0.6799, 0.6503,  ..., 0.6474, 0.3236, 0.7548]],\n",
              "\n",
              "         [[0.1674, 0.5340, 0.2242,  ..., 0.4727, 0.5896, 0.6797],\n",
              "          [0.0625, 0.0646, 0.4348,  ..., 0.9544, 0.9520, 0.5665],\n",
              "          [0.3028, 0.4029, 0.8864,  ..., 0.4562, 0.7091, 0.0540]],\n",
              "\n",
              "         [[0.8453, 0.4125, 0.0911,  ..., 0.3889, 0.8179, 0.3529],\n",
              "          [0.8532, 0.9196, 0.8066,  ..., 0.3590, 0.8159, 0.0809],\n",
              "          [0.5280, 0.6373, 0.0392,  ..., 0.2074, 0.7389, 0.1565]]],\n",
              "\n",
              "\n",
              "        [[[0.4282, 0.9395, 0.5815,  ..., 0.4101, 0.9219, 0.3216],\n",
              "          [0.4573, 0.2159, 0.9707,  ..., 0.8820, 0.9597, 0.6970],\n",
              "          [0.7880, 0.4051, 0.6942,  ..., 0.2509, 0.9546, 0.6411]],\n",
              "\n",
              "         [[0.3646, 0.9256, 0.1515,  ..., 0.7777, 0.6211, 0.7582],\n",
              "          [0.9827, 0.2530, 0.5444,  ..., 0.7351, 0.3927, 0.5653],\n",
              "          [0.1559, 0.6372, 0.6493,  ..., 0.1748, 0.0743, 0.6194]],\n",
              "\n",
              "         [[0.1078, 0.5482, 0.5864,  ..., 0.2056, 0.2209, 0.1177],\n",
              "          [0.1638, 0.7524, 0.5507,  ..., 0.5665, 0.3273, 0.2754],\n",
              "          [0.9481, 0.0127, 0.0098,  ..., 0.2379, 0.2207, 0.3625]]],\n",
              "\n",
              "\n",
              "        ...,\n",
              "\n",
              "\n",
              "        [[[0.4118, 0.5682, 0.9933,  ..., 0.5918, 0.6826, 0.2056],\n",
              "          [0.4506, 0.9282, 0.9692,  ..., 0.1759, 0.1399, 0.9280],\n",
              "          [0.8805, 0.2145, 0.0459,  ..., 0.9785, 0.8499, 0.3552]],\n",
              "\n",
              "         [[0.1322, 0.8977, 0.1864,  ..., 0.5211, 0.6046, 0.9871],\n",
              "          [0.0680, 0.2592, 0.8634,  ..., 0.0398, 0.3276, 0.7654],\n",
              "          [0.5442, 0.6723, 0.7562,  ..., 0.3747, 0.5065, 0.2433]],\n",
              "\n",
              "         [[0.0809, 0.6458, 0.1265,  ..., 0.6246, 0.8954, 0.6435],\n",
              "          [0.1447, 0.3796, 0.5311,  ..., 0.5083, 0.2807, 0.2754],\n",
              "          [0.2566, 0.7966, 0.1597,  ..., 0.8034, 0.6047, 0.0854]]],\n",
              "\n",
              "\n",
              "        [[[0.3584, 0.1485, 0.6255,  ..., 0.6464, 0.9796, 0.1092],\n",
              "          [0.6988, 0.1252, 0.9988,  ..., 0.7574, 0.2389, 0.9112],\n",
              "          [0.8700, 0.5349, 0.9698,  ..., 0.5399, 0.6058, 0.6106]],\n",
              "\n",
              "         [[0.0274, 0.0515, 0.7249,  ..., 0.2270, 0.6245, 0.6190],\n",
              "          [0.2123, 0.4291, 0.3998,  ..., 0.1680, 0.7906, 0.6680],\n",
              "          [0.5699, 0.3273, 0.6019,  ..., 0.8835, 0.3333, 0.1244]],\n",
              "\n",
              "         [[0.5171, 0.3533, 0.4828,  ..., 0.3689, 0.8637, 0.9460],\n",
              "          [0.5367, 0.5305, 0.8105,  ..., 0.9719, 0.1957, 0.0395],\n",
              "          [0.7019, 0.9293, 0.2268,  ..., 0.3713, 0.6225, 0.7325]]],\n",
              "\n",
              "\n",
              "        [[[0.0274, 0.7046, 0.1093,  ..., 0.9534, 0.4406, 0.4700],\n",
              "          [0.6165, 0.9821, 0.6776,  ..., 0.2659, 0.8595, 0.1608],\n",
              "          [0.7870, 0.6630, 0.1890,  ..., 0.4554, 0.2468, 0.0437]],\n",
              "\n",
              "         [[0.0866, 0.6967, 0.0598,  ..., 0.1111, 0.1739, 0.6413],\n",
              "          [0.1834, 0.8463, 0.7330,  ..., 0.5514, 0.5345, 0.0738],\n",
              "          [0.5030, 0.1468, 0.7539,  ..., 0.5718, 0.6309, 0.2556]],\n",
              "\n",
              "         [[0.0517, 0.6952, 0.1577,  ..., 0.6769, 0.1044, 0.7717],\n",
              "          [0.9990, 0.0914, 0.4963,  ..., 0.7354, 0.2996, 0.8654],\n",
              "          [0.0870, 0.2089, 0.0422,  ..., 0.4985, 0.4538, 0.6690]]]])"
            ]
          },
          "metadata": {},
          "execution_count": 28
        }
      ]
    },
    {
      "cell_type": "code",
      "source": [
        "myrandom_tensor.shape , myrandom_tensor.ndim"
      ],
      "metadata": {
        "id": "9P0-DJ_yGOaf",
        "outputId": "ca357028-70ca-4546-a923-673e9a81d83d",
        "colab": {
          "base_uri": "https://localhost:8080/"
        }
      },
      "execution_count": 29,
      "outputs": [
        {
          "output_type": "execute_result",
          "data": {
            "text/plain": [
              "(torch.Size([34, 3, 3, 43]), 4)"
            ]
          },
          "metadata": {},
          "execution_count": 29
        }
      ]
    },
    {
      "cell_type": "markdown",
      "source": [
        "# ZEROS AND ONES"
      ],
      "metadata": {
        "id": "J67Cw7_DRuuA"
      }
    },
    {
      "cell_type": "code",
      "source": [
        "ZEROS_TENSOR = torch.zeros(size =(2,3))\n",
        "ZEROS_TENSOR"
      ],
      "metadata": {
        "id": "GkaenntrRUZH",
        "outputId": "395c31d8-29f1-4240-d42a-3153cb45f380",
        "colab": {
          "base_uri": "https://localhost:8080/"
        }
      },
      "execution_count": 32,
      "outputs": [
        {
          "output_type": "execute_result",
          "data": {
            "text/plain": [
              "tensor([[0., 0., 0.],\n",
              "        [0., 0., 0.]])"
            ]
          },
          "metadata": {},
          "execution_count": 32
        }
      ]
    },
    {
      "cell_type": "code",
      "source": [
        "ONES_TENSOR = torch.ones(2,3)\n",
        "ONES_TENSOR , ONES_TENSOR.dtype"
      ],
      "metadata": {
        "id": "XrpWtdFER-ys",
        "outputId": "e3aabd84-2aa2-48d1-d106-2382c935c371",
        "colab": {
          "base_uri": "https://localhost:8080/"
        }
      },
      "execution_count": 33,
      "outputs": [
        {
          "output_type": "execute_result",
          "data": {
            "text/plain": [
              "(tensor([[1., 1., 1.],\n",
              "         [1., 1., 1.]]),\n",
              " torch.float32)"
            ]
          },
          "metadata": {},
          "execution_count": 33
        }
      ]
    },
    {
      "cell_type": "markdown",
      "source": [
        "### Creating a range of tensors and tensors-like"
      ],
      "metadata": {
        "id": "-9gzgQI2Sjxj"
      }
    },
    {
      "cell_type": "code",
      "source": [
        "# Lets use torch.arange() the old functions was range()\n",
        "\n",
        "one_to_ten = torch.arange(start=1,end= 11)\n",
        "one_to_ten"
      ],
      "metadata": {
        "id": "ToDyBCDDSi7p",
        "outputId": "1ef21a26-af71-45ca-cde3-2093a8913f14",
        "colab": {
          "base_uri": "https://localhost:8080/"
        }
      },
      "execution_count": 44,
      "outputs": [
        {
          "output_type": "execute_result",
          "data": {
            "text/plain": [
              "tensor([ 1,  2,  3,  4,  5,  6,  7,  8,  9, 10])"
            ]
          },
          "metadata": {},
          "execution_count": 44
        }
      ]
    },
    {
      "cell_type": "code",
      "source": [
        "with_steps = torch.arange(start=1,end= 11 , step= 3)\n",
        "with_steps"
      ],
      "metadata": {
        "id": "owhd58xNSr7g",
        "outputId": "1ac66b06-eb49-45e8-970e-43640833dca9",
        "colab": {
          "base_uri": "https://localhost:8080/"
        }
      },
      "execution_count": 41,
      "outputs": [
        {
          "output_type": "execute_result",
          "data": {
            "text/plain": [
              "tensor([ 1,  4,  7, 10])"
            ]
          },
          "metadata": {},
          "execution_count": 41
        }
      ]
    },
    {
      "cell_type": "code",
      "source": [
        "# Creating tensors  like\n",
        "\n",
        "ten_zeros = torch.zeros_like(input=one_to_ten)\n",
        "ten_zeros"
      ],
      "metadata": {
        "id": "eevJAkEwSr_b",
        "outputId": "ed208ac3-5071-42d0-a40a-12c142caa947",
        "colab": {
          "base_uri": "https://localhost:8080/"
        }
      },
      "execution_count": 45,
      "outputs": [
        {
          "output_type": "execute_result",
          "data": {
            "text/plain": [
              "tensor([0, 0, 0, 0, 0, 0, 0, 0, 0, 0])"
            ]
          },
          "metadata": {},
          "execution_count": 45
        }
      ]
    },
    {
      "cell_type": "markdown",
      "source": [
        "### Tensor datatypes"
      ],
      "metadata": {
        "id": "i_Ic99kvUWe9"
      }
    },
    {
      "cell_type": "code",
      "source": [
        "# Float 32 tensor\n",
        "\n",
        "float_32_tensor = torch.tensor([3.0,6.0,9.0], dtype=None,\n",
        "                               device=None,\n",
        "                               requires_grad=False)\n",
        "float_32_tensor"
      ],
      "metadata": {
        "id": "oWeMvqmWThBp",
        "outputId": "02e602df-f506-4d07-95db-e62cb7f00820",
        "colab": {
          "base_uri": "https://localhost:8080/"
        }
      },
      "execution_count": 47,
      "outputs": [
        {
          "output_type": "execute_result",
          "data": {
            "text/plain": [
              "tensor([3., 6., 9.])"
            ]
          },
          "metadata": {},
          "execution_count": 47
        }
      ]
    },
    {
      "cell_type": "code",
      "source": [],
      "metadata": {
        "id": "dRGsQe5dXLuc"
      },
      "execution_count": null,
      "outputs": []
    }
  ]
}