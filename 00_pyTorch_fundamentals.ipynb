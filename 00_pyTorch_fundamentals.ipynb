{
  "nbformat": 4,
  "nbformat_minor": 0,
  "metadata": {
    "colab": {
      "provenance": [],
      "authorship_tag": "ABX9TyPUPI2kMzxXKap5xZEmmhLG",
      "include_colab_link": true
    },
    "kernelspec": {
      "name": "python3",
      "display_name": "Python 3"
    },
    "language_info": {
      "name": "python"
    }
  },
  "cells": [
    {
      "cell_type": "markdown",
      "metadata": {
        "id": "view-in-github",
        "colab_type": "text"
      },
      "source": [
        "<a href=\"https://colab.research.google.com/github/AndrewDem04/pyTorch_fundamentals/blob/main/00_pyTorch_fundamentals.ipynb\" target=\"_parent\"><img src=\"https://colab.research.google.com/assets/colab-badge.svg\" alt=\"Open In Colab\"/></a>"
      ]
    },
    {
      "cell_type": "code",
      "execution_count": 2,
      "metadata": {
        "colab": {
          "base_uri": "https://localhost:8080/"
        },
        "id": "8vvQHGdliYSw",
        "outputId": "a7a84aee-dae2-4620-eea2-5583b95a03eb"
      },
      "outputs": [
        {
          "output_type": "stream",
          "name": "stdout",
          "text": [
            "2.6.0+cu124\n"
          ]
        }
      ],
      "source": [
        "import torch\n",
        "print(torch.__version__)"
      ]
    },
    {
      "cell_type": "markdown",
      "source": [
        "## Introduction to Tensors\n"
      ],
      "metadata": {
        "id": "_DARb4tckgfN"
      }
    },
    {
      "cell_type": "markdown",
      "source": [
        "### scaral"
      ],
      "metadata": {
        "id": "gtlDV4yB6u1_"
      }
    },
    {
      "cell_type": "code",
      "source": [
        "# we have difrente types of tensors\n",
        "#You must see the -- torch.tensor documentation and what tensor is\n",
        "# scaral\n",
        "\n",
        "scalar = torch.tensor(7)\n",
        "scalar.item()"
      ],
      "metadata": {
        "colab": {
          "base_uri": "https://localhost:8080/"
        },
        "id": "lT65Tlmcjw1h",
        "outputId": "ea59d07d-4770-4896-dbc9-64be3b15ff31"
      },
      "execution_count": 3,
      "outputs": [
        {
          "output_type": "execute_result",
          "data": {
            "text/plain": [
              "7"
            ]
          },
          "metadata": {},
          "execution_count": 3
        }
      ]
    },
    {
      "cell_type": "markdown",
      "source": [
        "### vector"
      ],
      "metadata": {
        "id": "YV5XQEq86fmd"
      }
    },
    {
      "cell_type": "code",
      "source": [
        "# vector\n",
        "vector = torch.tensor([7,7])\n",
        "vector"
      ],
      "metadata": {
        "colab": {
          "base_uri": "https://localhost:8080/"
        },
        "id": "_zvARckQ6rph",
        "outputId": "7285a49c-707f-4545-a3f4-9f72096e2750"
      },
      "execution_count": 4,
      "outputs": [
        {
          "output_type": "execute_result",
          "data": {
            "text/plain": [
              "tensor([7, 7])"
            ]
          },
          "metadata": {},
          "execution_count": 4
        }
      ]
    },
    {
      "cell_type": "code",
      "source": [
        "# how meny dimension it have --ndim\n",
        "vector.ndim"
      ],
      "metadata": {
        "colab": {
          "base_uri": "https://localhost:8080/"
        },
        "id": "tEL2nx-q67z9",
        "outputId": "5a211b38-cf17-4623-ce93-0fc33bd01303"
      },
      "execution_count": 5,
      "outputs": [
        {
          "output_type": "execute_result",
          "data": {
            "text/plain": [
              "1"
            ]
          },
          "metadata": {},
          "execution_count": 5
        }
      ]
    },
    {
      "cell_type": "code",
      "source": [
        "vector.shape"
      ],
      "metadata": {
        "colab": {
          "base_uri": "https://localhost:8080/"
        },
        "id": "HMuo2-jo7UNk",
        "outputId": "575e33ad-75a7-4254-cccf-2e4f016fd7ad"
      },
      "execution_count": 6,
      "outputs": [
        {
          "output_type": "execute_result",
          "data": {
            "text/plain": [
              "torch.Size([2])"
            ]
          },
          "metadata": {},
          "execution_count": 6
        }
      ]
    },
    {
      "cell_type": "code",
      "source": [
        "MATRIX = torch.tensor([[7,8],[9,10]])"
      ],
      "metadata": {
        "id": "Fu_HjQw87exu"
      },
      "execution_count": 7,
      "outputs": []
    },
    {
      "cell_type": "code",
      "source": [
        "MATRIX.ndim"
      ],
      "metadata": {
        "colab": {
          "base_uri": "https://localhost:8080/"
        },
        "id": "zhhgxP-B7zGU",
        "outputId": "e05cd9a9-dffc-457a-f908-2ca6b785d012"
      },
      "execution_count": 8,
      "outputs": [
        {
          "output_type": "execute_result",
          "data": {
            "text/plain": [
              "2"
            ]
          },
          "metadata": {},
          "execution_count": 8
        }
      ]
    },
    {
      "cell_type": "code",
      "source": [
        "MATRIX[1]"
      ],
      "metadata": {
        "colab": {
          "base_uri": "https://localhost:8080/"
        },
        "id": "ah9NbXtw73pD",
        "outputId": "074603eb-1fff-4524-acec-e6573873b024"
      },
      "execution_count": 9,
      "outputs": [
        {
          "output_type": "execute_result",
          "data": {
            "text/plain": [
              "tensor([ 9, 10])"
            ]
          },
          "metadata": {},
          "execution_count": 9
        }
      ]
    },
    {
      "cell_type": "code",
      "source": [
        "MATRIX.shape"
      ],
      "metadata": {
        "colab": {
          "base_uri": "https://localhost:8080/"
        },
        "id": "62bwVwsn8MEB",
        "outputId": "7f65a7ce-6620-4c01-9bf0-25224c3789fa"
      },
      "execution_count": 10,
      "outputs": [
        {
          "output_type": "execute_result",
          "data": {
            "text/plain": [
              "torch.Size([2, 2])"
            ]
          },
          "metadata": {},
          "execution_count": 10
        }
      ]
    },
    {
      "cell_type": "code",
      "source": [
        "TENSOR = torch.tensor([[[1,2,3],[4,5,6],[7,8,9]]])"
      ],
      "metadata": {
        "id": "fKmTXO6R9v0v"
      },
      "execution_count": 11,
      "outputs": []
    },
    {
      "cell_type": "code",
      "source": [
        "TENSOR.ndim"
      ],
      "metadata": {
        "colab": {
          "base_uri": "https://localhost:8080/"
        },
        "id": "j1RLXoE9-GI5",
        "outputId": "4b7bd04b-691a-45aa-e542-ad73c354f095"
      },
      "execution_count": 12,
      "outputs": [
        {
          "output_type": "execute_result",
          "data": {
            "text/plain": [
              "3"
            ]
          },
          "metadata": {},
          "execution_count": 12
        }
      ]
    },
    {
      "cell_type": "code",
      "source": [
        "TENSOR.shape"
      ],
      "metadata": {
        "colab": {
          "base_uri": "https://localhost:8080/"
        },
        "id": "k1lvYlbJ-LRj",
        "outputId": "3b07d764-cdfd-4b5b-d8b4-9d6d82459ca4"
      },
      "execution_count": 13,
      "outputs": [
        {
          "output_type": "execute_result",
          "data": {
            "text/plain": [
              "torch.Size([1, 3, 3])"
            ]
          },
          "metadata": {},
          "execution_count": 13
        }
      ]
    },
    {
      "cell_type": "markdown",
      "source": [
        "###### Lets create one more tensor and expiramend with the ndim , shape and the indexing"
      ],
      "metadata": {
        "id": "1dTSbvzN_xpQ"
      }
    },
    {
      "cell_type": "code",
      "source": [
        "MYTENSOR = torch.tensor([[[1,2,3],[5,6,8],[2,5,6]],[[4,2,3],[5,66,8],[2,5,6]]])"
      ],
      "metadata": {
        "id": "U1Mqowv5AOSH"
      },
      "execution_count": 14,
      "outputs": []
    },
    {
      "cell_type": "code",
      "source": [
        "MYTENSOR.shape"
      ],
      "metadata": {
        "colab": {
          "base_uri": "https://localhost:8080/"
        },
        "id": "Ly29dUlYBBI4",
        "outputId": "37749cfd-2804-4ecf-cc7d-8ff516a15a13"
      },
      "execution_count": 15,
      "outputs": [
        {
          "output_type": "execute_result",
          "data": {
            "text/plain": [
              "torch.Size([2, 3, 3])"
            ]
          },
          "metadata": {},
          "execution_count": 15
        }
      ]
    },
    {
      "cell_type": "code",
      "source": [
        "MYTENSOR.ndim"
      ],
      "metadata": {
        "colab": {
          "base_uri": "https://localhost:8080/"
        },
        "id": "3YI1yRvkBHMI",
        "outputId": "bcc0fbf3-1af3-4b92-8c23-e62e4f38c4b8"
      },
      "execution_count": 16,
      "outputs": [
        {
          "output_type": "execute_result",
          "data": {
            "text/plain": [
              "3"
            ]
          },
          "metadata": {},
          "execution_count": 16
        }
      ]
    },
    {
      "cell_type": "code",
      "source": [
        "MYTENSOR[0]"
      ],
      "metadata": {
        "colab": {
          "base_uri": "https://localhost:8080/"
        },
        "id": "1JrqllM7BLD3",
        "outputId": "d2a0f64e-1b62-48aa-a2e7-9a3b2e6f2f9c"
      },
      "execution_count": 17,
      "outputs": [
        {
          "output_type": "execute_result",
          "data": {
            "text/plain": [
              "tensor([[1, 2, 3],\n",
              "        [5, 6, 8],\n",
              "        [2, 5, 6]])"
            ]
          },
          "metadata": {},
          "execution_count": 17
        }
      ]
    },
    {
      "cell_type": "code",
      "source": [
        "MYTENSOR[1]"
      ],
      "metadata": {
        "colab": {
          "base_uri": "https://localhost:8080/"
        },
        "id": "awMg4_zpBQ1j",
        "outputId": "aa5127fd-8f47-41f2-88ec-ec9b58b04851"
      },
      "execution_count": 18,
      "outputs": [
        {
          "output_type": "execute_result",
          "data": {
            "text/plain": [
              "tensor([[ 4,  2,  3],\n",
              "        [ 5, 66,  8],\n",
              "        [ 2,  5,  6]])"
            ]
          },
          "metadata": {},
          "execution_count": 18
        }
      ]
    },
    {
      "cell_type": "code",
      "source": [
        "MYTENSOR[1,1]"
      ],
      "metadata": {
        "colab": {
          "base_uri": "https://localhost:8080/"
        },
        "id": "VwLN6PfkBivQ",
        "outputId": "9e17f2c5-f40d-4fc9-907d-6b1bc1aad1c8"
      },
      "execution_count": 19,
      "outputs": [
        {
          "output_type": "execute_result",
          "data": {
            "text/plain": [
              "tensor([ 5, 66,  8])"
            ]
          },
          "metadata": {},
          "execution_count": 19
        }
      ]
    },
    {
      "cell_type": "markdown",
      "source": [
        "### Random tensors\n",
        "\n",
        "Random tensors are important because many neural networks:\n",
        "\n",
        "-start with random numbers\n",
        "-look at data\n",
        "-update random numbers\n",
        "-look at data\n",
        "-update"
      ],
      "metadata": {
        "id": "CrluA3hiCR6y"
      }
    },
    {
      "cell_type": "code",
      "source": [
        "# create random tensor size (3,4)\n",
        "\n",
        "random_tensor = torch.rand(3,4)\n",
        "random_tensor"
      ],
      "metadata": {
        "colab": {
          "base_uri": "https://localhost:8080/"
        },
        "id": "-5bxbUxtCQFW",
        "outputId": "dbabbcd4-584c-411e-96a6-245bc73be08d"
      },
      "execution_count": 20,
      "outputs": [
        {
          "output_type": "execute_result",
          "data": {
            "text/plain": [
              "tensor([[0.9781, 0.5654, 0.9773, 0.9518],\n",
              "        [0.2645, 0.0433, 0.3775, 0.0219],\n",
              "        [0.8220, 0.8200, 0.3239, 0.9106]])"
            ]
          },
          "metadata": {},
          "execution_count": 20
        }
      ]
    },
    {
      "cell_type": "code",
      "source": [
        "random_tensor.ndim"
      ],
      "metadata": {
        "colab": {
          "base_uri": "https://localhost:8080/"
        },
        "id": "2z-cY2lFDAS4",
        "outputId": "1501e3ee-7bed-449b-dc81-0c5679370253"
      },
      "execution_count": 21,
      "outputs": [
        {
          "output_type": "execute_result",
          "data": {
            "text/plain": [
              "2"
            ]
          },
          "metadata": {},
          "execution_count": 21
        }
      ]
    },
    {
      "cell_type": "code",
      "source": [
        "random_tensor.shape"
      ],
      "metadata": {
        "colab": {
          "base_uri": "https://localhost:8080/"
        },
        "id": "sgs4CFlNDAfR",
        "outputId": "da60574f-31b7-47ee-af3b-62ba753db072"
      },
      "execution_count": 22,
      "outputs": [
        {
          "output_type": "execute_result",
          "data": {
            "text/plain": [
              "torch.Size([3, 4])"
            ]
          },
          "metadata": {},
          "execution_count": 22
        }
      ]
    },
    {
      "cell_type": "code",
      "source": [
        "# Create a random tensor with similar shape to an image tensor\n",
        "random_image_size_tensor = torch.rand(size=(224,224,3)) # height,width , color channels (R,G,B)\n",
        "random_image_size_tensor"
      ],
      "metadata": {
        "colab": {
          "base_uri": "https://localhost:8080/"
        },
        "id": "Sn6Jqg0cDAob",
        "outputId": "119e7556-0313-4e54-8ff3-d1d64736ccf2"
      },
      "execution_count": 23,
      "outputs": [
        {
          "output_type": "execute_result",
          "data": {
            "text/plain": [
              "tensor([[[0.0837, 0.6974, 0.4782],\n",
              "         [0.5916, 0.3472, 0.2837],\n",
              "         [0.9470, 0.9040, 0.0347],\n",
              "         ...,\n",
              "         [0.2001, 0.8739, 0.8278],\n",
              "         [0.1003, 0.8602, 0.7129],\n",
              "         [0.7317, 0.7285, 0.4507]],\n",
              "\n",
              "        [[0.1567, 0.4737, 0.8002],\n",
              "         [0.3308, 0.7589, 0.3945],\n",
              "         [0.3409, 0.2819, 0.6568],\n",
              "         ...,\n",
              "         [0.1081, 0.0824, 0.0425],\n",
              "         [0.5112, 0.4941, 0.1260],\n",
              "         [0.6100, 0.5976, 0.0069]],\n",
              "\n",
              "        [[0.4490, 0.9917, 0.2049],\n",
              "         [0.1445, 0.1477, 0.9537],\n",
              "         [0.9334, 0.4729, 0.0622],\n",
              "         ...,\n",
              "         [0.4041, 0.1294, 0.4136],\n",
              "         [0.2436, 0.5430, 0.3652],\n",
              "         [0.4241, 0.6866, 0.3009]],\n",
              "\n",
              "        ...,\n",
              "\n",
              "        [[0.7911, 0.4747, 0.5190],\n",
              "         [0.5206, 0.7661, 0.7340],\n",
              "         [0.3477, 0.0561, 0.9164],\n",
              "         ...,\n",
              "         [0.2914, 0.4776, 0.0689],\n",
              "         [0.6121, 0.3263, 0.1638],\n",
              "         [0.9710, 0.1909, 0.8363]],\n",
              "\n",
              "        [[0.7621, 0.5206, 0.9958],\n",
              "         [0.4666, 0.3075, 0.4085],\n",
              "         [0.6749, 0.9293, 0.3882],\n",
              "         ...,\n",
              "         [0.7578, 0.5433, 0.2864],\n",
              "         [0.4435, 0.6223, 0.3044],\n",
              "         [0.6606, 0.4949, 0.0725]],\n",
              "\n",
              "        [[0.1669, 0.3580, 0.4784],\n",
              "         [0.7240, 0.6809, 0.4704],\n",
              "         [0.4201, 0.0529, 0.4971],\n",
              "         ...,\n",
              "         [0.3291, 0.3900, 0.3912],\n",
              "         [0.4594, 0.8771, 0.8184],\n",
              "         [0.1786, 0.4669, 0.9516]]])"
            ]
          },
          "metadata": {},
          "execution_count": 23
        }
      ]
    },
    {
      "cell_type": "code",
      "source": [
        "random_image_size_tensor.shape , random_image_size_tensor.ndim"
      ],
      "metadata": {
        "colab": {
          "base_uri": "https://localhost:8080/"
        },
        "id": "enM-PeScDn6l",
        "outputId": "f1c69e8b-4150-4233-d996-9a074e5960eb"
      },
      "execution_count": 24,
      "outputs": [
        {
          "output_type": "execute_result",
          "data": {
            "text/plain": [
              "(torch.Size([224, 224, 3]), 3)"
            ]
          },
          "metadata": {},
          "execution_count": 24
        }
      ]
    },
    {
      "cell_type": "code",
      "source": [
        "# lets create my own random tensor\n",
        "\n",
        "myrandom_tensor = torch.rand(34,3,3,43)\n",
        "myrandom_tensor"
      ],
      "metadata": {
        "id": "j6qScIU3EkYf",
        "outputId": "7a779a47-3a54-43ce-a38b-95e8c1bca8ea",
        "colab": {
          "base_uri": "https://localhost:8080/"
        }
      },
      "execution_count": 25,
      "outputs": [
        {
          "output_type": "execute_result",
          "data": {
            "text/plain": [
              "tensor([[[[0.7422, 0.7265, 0.3644,  ..., 0.1658, 0.9287, 0.8795],\n",
              "          [0.1114, 0.7350, 0.1785,  ..., 0.4348, 0.9180, 0.1070],\n",
              "          [0.6989, 0.3054, 0.2082,  ..., 0.0284, 0.9259, 0.7216]],\n",
              "\n",
              "         [[0.9576, 0.3427, 0.7201,  ..., 0.2317, 0.4055, 0.2724],\n",
              "          [0.7115, 0.9390, 0.0978,  ..., 0.8225, 0.5768, 0.0945],\n",
              "          [0.3983, 0.2050, 0.3527,  ..., 0.5748, 0.1978, 0.0590]],\n",
              "\n",
              "         [[0.3972, 0.1049, 0.6943,  ..., 0.9789, 0.9353, 0.3313],\n",
              "          [0.7390, 0.1335, 0.3133,  ..., 0.9947, 0.2873, 0.5611],\n",
              "          [0.6746, 0.9591, 0.2863,  ..., 0.5523, 0.3564, 0.0913]]],\n",
              "\n",
              "\n",
              "        [[[0.2768, 0.1303, 0.9693,  ..., 0.8958, 0.0880, 0.7107],\n",
              "          [0.0359, 0.7959, 0.8145,  ..., 0.7688, 0.7937, 0.1785],\n",
              "          [0.7953, 0.5978, 0.8338,  ..., 0.2149, 0.9199, 0.1873]],\n",
              "\n",
              "         [[0.9827, 0.8790, 0.4784,  ..., 0.9859, 0.2411, 0.5571],\n",
              "          [0.8288, 0.3922, 0.9993,  ..., 0.2548, 0.2030, 0.1956],\n",
              "          [0.2151, 0.3819, 0.8283,  ..., 0.5982, 0.5571, 0.4158]],\n",
              "\n",
              "         [[0.1006, 0.5764, 0.3583,  ..., 0.8789, 0.2277, 0.2067],\n",
              "          [0.8846, 0.7782, 0.8832,  ..., 0.9932, 0.2257, 0.3346],\n",
              "          [0.2089, 0.8179, 0.6541,  ..., 0.1895, 0.4063, 0.2029]]],\n",
              "\n",
              "\n",
              "        [[[0.0279, 0.3272, 0.2028,  ..., 0.9719, 0.8382, 0.5737],\n",
              "          [0.2209, 0.7125, 0.3755,  ..., 0.4575, 0.4573, 0.9559],\n",
              "          [0.7549, 0.0610, 0.0211,  ..., 0.3123, 0.8016, 0.2233]],\n",
              "\n",
              "         [[0.9361, 0.4847, 0.8071,  ..., 0.1434, 0.8140, 0.5189],\n",
              "          [0.5773, 0.8897, 0.9534,  ..., 0.6793, 0.2115, 0.8577],\n",
              "          [0.4397, 0.2639, 0.2747,  ..., 0.1334, 0.5282, 0.2707]],\n",
              "\n",
              "         [[0.5789, 0.7630, 0.4345,  ..., 0.9146, 0.8607, 0.2193],\n",
              "          [0.2203, 0.3122, 0.2931,  ..., 0.6551, 0.7977, 0.3032],\n",
              "          [0.2393, 0.7709, 0.7311,  ..., 0.4550, 0.2121, 0.5265]]],\n",
              "\n",
              "\n",
              "        ...,\n",
              "\n",
              "\n",
              "        [[[0.3142, 0.4021, 0.4248,  ..., 0.5546, 0.4708, 0.2995],\n",
              "          [0.7217, 0.4872, 0.7909,  ..., 0.6757, 0.3187, 0.6627],\n",
              "          [0.0367, 0.2231, 0.2926,  ..., 0.5404, 0.4222, 0.8661]],\n",
              "\n",
              "         [[0.8970, 0.9115, 0.6782,  ..., 0.9780, 0.1838, 0.3844],\n",
              "          [0.5506, 0.7504, 0.7396,  ..., 0.8454, 0.2852, 0.9087],\n",
              "          [0.2457, 0.4340, 0.6159,  ..., 0.8487, 0.5845, 0.5191]],\n",
              "\n",
              "         [[0.1757, 0.3925, 0.4074,  ..., 0.3244, 0.6678, 0.3014],\n",
              "          [0.8657, 0.5391, 0.7360,  ..., 0.5160, 0.2914, 0.7387],\n",
              "          [0.6798, 0.2939, 0.6467,  ..., 0.0679, 0.7127, 0.8468]]],\n",
              "\n",
              "\n",
              "        [[[0.1908, 0.6490, 0.0632,  ..., 0.8595, 0.7491, 0.0563],\n",
              "          [0.6801, 0.2895, 0.5660,  ..., 0.0035, 0.2455, 0.2903],\n",
              "          [0.6245, 0.1150, 0.4153,  ..., 0.6962, 0.9975, 0.2210]],\n",
              "\n",
              "         [[0.9262, 0.5865, 0.3037,  ..., 0.5133, 0.7006, 0.2480],\n",
              "          [0.1754, 0.4991, 0.5910,  ..., 0.6067, 0.4284, 0.7662],\n",
              "          [0.9113, 0.8835, 0.0656,  ..., 0.4404, 0.2534, 0.3999]],\n",
              "\n",
              "         [[0.3950, 0.0042, 0.5745,  ..., 0.2105, 0.7464, 0.2138],\n",
              "          [0.6229, 0.2329, 0.3783,  ..., 0.3255, 0.1329, 0.2186],\n",
              "          [0.7070, 0.7969, 0.7316,  ..., 0.1370, 0.6821, 0.2521]]],\n",
              "\n",
              "\n",
              "        [[[0.7370, 0.2763, 0.1296,  ..., 0.9550, 0.3426, 0.7394],\n",
              "          [0.4339, 0.5854, 0.5904,  ..., 0.1791, 0.3731, 0.4734],\n",
              "          [0.7546, 0.5794, 0.5586,  ..., 0.8938, 0.4144, 0.4275]],\n",
              "\n",
              "         [[0.0109, 0.7084, 0.4051,  ..., 0.4802, 0.0463, 0.9265],\n",
              "          [0.7303, 0.2566, 0.9968,  ..., 0.0987, 0.8028, 0.8167],\n",
              "          [0.7000, 0.4756, 0.3382,  ..., 0.7287, 0.7710, 0.6608]],\n",
              "\n",
              "         [[0.9007, 0.4337, 0.2374,  ..., 0.8840, 0.9334, 0.8932],\n",
              "          [0.6899, 0.1435, 0.0139,  ..., 0.8472, 0.3537, 0.5398],\n",
              "          [0.3617, 0.1966, 0.8773,  ..., 0.2963, 0.1320, 0.9614]]]])"
            ]
          },
          "metadata": {},
          "execution_count": 25
        }
      ]
    },
    {
      "cell_type": "code",
      "source": [
        "myrandom_tensor.shape , myrandom_tensor.ndim"
      ],
      "metadata": {
        "id": "9P0-DJ_yGOaf",
        "outputId": "cfef26c5-f89d-45ee-aafa-8ac3b60cd09d",
        "colab": {
          "base_uri": "https://localhost:8080/"
        }
      },
      "execution_count": 26,
      "outputs": [
        {
          "output_type": "execute_result",
          "data": {
            "text/plain": [
              "(torch.Size([34, 3, 3, 43]), 4)"
            ]
          },
          "metadata": {},
          "execution_count": 26
        }
      ]
    },
    {
      "cell_type": "markdown",
      "source": [
        "# ZEROS AND ONES"
      ],
      "metadata": {
        "id": "J67Cw7_DRuuA"
      }
    },
    {
      "cell_type": "code",
      "source": [
        "ZEROS_TENSOR = torch.zeros(size =(2,3))\n",
        "ZEROS_TENSOR"
      ],
      "metadata": {
        "id": "GkaenntrRUZH",
        "outputId": "7936249a-8a10-4174-b67a-e1b520ee4910",
        "colab": {
          "base_uri": "https://localhost:8080/"
        }
      },
      "execution_count": 27,
      "outputs": [
        {
          "output_type": "execute_result",
          "data": {
            "text/plain": [
              "tensor([[0., 0., 0.],\n",
              "        [0., 0., 0.]])"
            ]
          },
          "metadata": {},
          "execution_count": 27
        }
      ]
    },
    {
      "cell_type": "code",
      "source": [
        "ONES_TENSOR = torch.ones(2,3)\n",
        "ONES_TENSOR , ONES_TENSOR.dtype"
      ],
      "metadata": {
        "id": "XrpWtdFER-ys",
        "outputId": "332cfec0-b5a6-41b7-edb7-2a3242115b44",
        "colab": {
          "base_uri": "https://localhost:8080/"
        }
      },
      "execution_count": 28,
      "outputs": [
        {
          "output_type": "execute_result",
          "data": {
            "text/plain": [
              "(tensor([[1., 1., 1.],\n",
              "         [1., 1., 1.]]),\n",
              " torch.float32)"
            ]
          },
          "metadata": {},
          "execution_count": 28
        }
      ]
    },
    {
      "cell_type": "markdown",
      "source": [
        "### Creating a range of tensors and tensors-like"
      ],
      "metadata": {
        "id": "-9gzgQI2Sjxj"
      }
    },
    {
      "cell_type": "code",
      "source": [
        "# Lets use torch.arange() the old functions was range()\n",
        "\n",
        "one_to_ten = torch.arange(start=1,end= 11)\n",
        "one_to_ten"
      ],
      "metadata": {
        "id": "ToDyBCDDSi7p",
        "outputId": "7ba44324-b844-4336-adfc-4836fcb15089",
        "colab": {
          "base_uri": "https://localhost:8080/"
        }
      },
      "execution_count": 29,
      "outputs": [
        {
          "output_type": "execute_result",
          "data": {
            "text/plain": [
              "tensor([ 1,  2,  3,  4,  5,  6,  7,  8,  9, 10])"
            ]
          },
          "metadata": {},
          "execution_count": 29
        }
      ]
    },
    {
      "cell_type": "code",
      "source": [
        "with_steps = torch.arange(start=1,end= 11 , step= 3)\n",
        "with_steps"
      ],
      "metadata": {
        "id": "owhd58xNSr7g",
        "outputId": "7dae5ccc-9178-4bd2-cb7a-9b3ca17b4f8e",
        "colab": {
          "base_uri": "https://localhost:8080/"
        }
      },
      "execution_count": 30,
      "outputs": [
        {
          "output_type": "execute_result",
          "data": {
            "text/plain": [
              "tensor([ 1,  4,  7, 10])"
            ]
          },
          "metadata": {},
          "execution_count": 30
        }
      ]
    },
    {
      "cell_type": "code",
      "source": [
        "# Creating tensors  like\n",
        "\n",
        "ten_zeros = torch.zeros_like(input=one_to_ten)\n",
        "ten_zeros"
      ],
      "metadata": {
        "id": "eevJAkEwSr_b",
        "outputId": "8225145f-fb3d-4e86-e676-df764f9a7a2c",
        "colab": {
          "base_uri": "https://localhost:8080/"
        }
      },
      "execution_count": 31,
      "outputs": [
        {
          "output_type": "execute_result",
          "data": {
            "text/plain": [
              "tensor([0, 0, 0, 0, 0, 0, 0, 0, 0, 0])"
            ]
          },
          "metadata": {},
          "execution_count": 31
        }
      ]
    },
    {
      "cell_type": "markdown",
      "source": [
        "### Tensor datatypes"
      ],
      "metadata": {
        "id": "i_Ic99kvUWe9"
      }
    },
    {
      "cell_type": "code",
      "source": [
        "# Float 32 tensor\n",
        "# When a number takes less memory , you can calculate faster ,\n",
        "# when a number is larger you can calculate more acurate\n",
        "\n",
        "\n",
        "float_32_tensor = torch.tensor([3.0,6.0,9.0], dtype=None, # What datatype is the tensor\n",
        "                               device=None, # What device is your tensor\n",
        "                               requires_grad=False) # whether or not to track gradients with this tensors operations\n",
        "float_32_tensor"
      ],
      "metadata": {
        "id": "oWeMvqmWThBp",
        "outputId": "21f9ea4a-3280-4627-d536-b01b38aa4ba8",
        "colab": {
          "base_uri": "https://localhost:8080/"
        }
      },
      "execution_count": 34,
      "outputs": [
        {
          "output_type": "execute_result",
          "data": {
            "text/plain": [
              "tensor([3., 6., 9.])"
            ]
          },
          "metadata": {},
          "execution_count": 34
        }
      ]
    },
    {
      "cell_type": "code",
      "source": [
        "float_16_tensor = float_32_tensor.type(torch.float16)\n",
        "float_16_tensor"
      ],
      "metadata": {
        "id": "dRGsQe5dXLuc",
        "colab": {
          "base_uri": "https://localhost:8080/"
        },
        "outputId": "eb188f9b-1a6f-4172-9783-c5fa0de10491"
      },
      "execution_count": 36,
      "outputs": [
        {
          "output_type": "execute_result",
          "data": {
            "text/plain": [
              "tensor([3., 6., 9.], dtype=torch.float16)"
            ]
          },
          "metadata": {},
          "execution_count": 36
        }
      ]
    },
    {
      "cell_type": "code",
      "source": [
        "# sometimes it works but not evry time , in this case it works\n",
        "float_16_tensor * float_32_tensor"
      ],
      "metadata": {
        "id": "aZSzvEXe9cPJ",
        "outputId": "79675463-f72f-41eb-efcc-3fb4cba13cf6",
        "colab": {
          "base_uri": "https://localhost:8080/"
        }
      },
      "execution_count": 37,
      "outputs": [
        {
          "output_type": "execute_result",
          "data": {
            "text/plain": [
              "tensor([ 9., 36., 81.])"
            ]
          },
          "metadata": {},
          "execution_count": 37
        }
      ]
    },
    {
      "cell_type": "code",
      "source": [],
      "metadata": {
        "id": "EVhoiU0H9jQv"
      },
      "execution_count": null,
      "outputs": []
    }
  ]
}