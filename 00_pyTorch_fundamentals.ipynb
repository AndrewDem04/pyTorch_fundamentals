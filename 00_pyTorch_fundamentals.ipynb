{
  "nbformat": 4,
  "nbformat_minor": 0,
  "metadata": {
    "colab": {
      "provenance": [],
      "gpuType": "T4",
      "authorship_tag": "ABX9TyMWmPrjm/pmJK+tf/BXZUVh",
      "include_colab_link": true
    },
    "kernelspec": {
      "name": "python3",
      "display_name": "Python 3"
    },
    "language_info": {
      "name": "python"
    },
    "accelerator": "GPU"
  },
  "cells": [
    {
      "cell_type": "markdown",
      "metadata": {
        "id": "view-in-github",
        "colab_type": "text"
      },
      "source": [
        "<a href=\"https://colab.research.google.com/github/AndrewDem04/pyTorch_fundamentals/blob/main/00_pyTorch_fundamentals.ipynb\" target=\"_parent\"><img src=\"https://colab.research.google.com/assets/colab-badge.svg\" alt=\"Open In Colab\"/></a>"
      ]
    },
    {
      "cell_type": "code",
      "execution_count": 2,
      "metadata": {
        "colab": {
          "base_uri": "https://localhost:8080/"
        },
        "id": "8vvQHGdliYSw",
        "outputId": "99e630eb-685e-4051-b1fe-fd87dae0d7f8"
      },
      "outputs": [
        {
          "output_type": "stream",
          "name": "stdout",
          "text": [
            "2.6.0+cu124\n"
          ]
        }
      ],
      "source": [
        "import torch\n",
        "print(torch.__version__)"
      ]
    },
    {
      "cell_type": "markdown",
      "source": [
        "## Introduction to Tensors\n"
      ],
      "metadata": {
        "id": "_DARb4tckgfN"
      }
    },
    {
      "cell_type": "markdown",
      "source": [
        "### scaral"
      ],
      "metadata": {
        "id": "gtlDV4yB6u1_"
      }
    },
    {
      "cell_type": "code",
      "source": [
        "# we have difrente types of tensors\n",
        "#You must see the -- torch.tensor documentation and what tensor is\n",
        "# scaral\n",
        "\n",
        "scalar = torch.tensor(7)\n",
        "scalar.item()"
      ],
      "metadata": {
        "colab": {
          "base_uri": "https://localhost:8080/"
        },
        "id": "lT65Tlmcjw1h",
        "outputId": "8ec515bf-714b-4f11-bddb-d828053ec2cb"
      },
      "execution_count": 3,
      "outputs": [
        {
          "output_type": "execute_result",
          "data": {
            "text/plain": [
              "7"
            ]
          },
          "metadata": {},
          "execution_count": 3
        }
      ]
    },
    {
      "cell_type": "markdown",
      "source": [
        "### vector"
      ],
      "metadata": {
        "id": "YV5XQEq86fmd"
      }
    },
    {
      "cell_type": "code",
      "source": [
        "# vector\n",
        "vector = torch.tensor([7,7])\n",
        "vector"
      ],
      "metadata": {
        "colab": {
          "base_uri": "https://localhost:8080/"
        },
        "id": "_zvARckQ6rph",
        "outputId": "ed6bb8e2-c210-46ac-e8f2-cdb5756ca5ea"
      },
      "execution_count": 4,
      "outputs": [
        {
          "output_type": "execute_result",
          "data": {
            "text/plain": [
              "tensor([7, 7])"
            ]
          },
          "metadata": {},
          "execution_count": 4
        }
      ]
    },
    {
      "cell_type": "code",
      "source": [
        "# how meny dimension it have --ndim\n",
        "vector.ndim"
      ],
      "metadata": {
        "colab": {
          "base_uri": "https://localhost:8080/"
        },
        "id": "tEL2nx-q67z9",
        "outputId": "de59fea1-5783-486e-8e59-8a1c9534decb"
      },
      "execution_count": 5,
      "outputs": [
        {
          "output_type": "execute_result",
          "data": {
            "text/plain": [
              "1"
            ]
          },
          "metadata": {},
          "execution_count": 5
        }
      ]
    },
    {
      "cell_type": "code",
      "source": [
        "vector.shape"
      ],
      "metadata": {
        "colab": {
          "base_uri": "https://localhost:8080/"
        },
        "id": "HMuo2-jo7UNk",
        "outputId": "ecc9d60a-e07a-423d-bcb3-f2e75b191581"
      },
      "execution_count": 6,
      "outputs": [
        {
          "output_type": "execute_result",
          "data": {
            "text/plain": [
              "torch.Size([2])"
            ]
          },
          "metadata": {},
          "execution_count": 6
        }
      ]
    },
    {
      "cell_type": "code",
      "source": [
        "MATRIX = torch.tensor([[7,8],[9,10]])"
      ],
      "metadata": {
        "id": "Fu_HjQw87exu"
      },
      "execution_count": 7,
      "outputs": []
    },
    {
      "cell_type": "code",
      "source": [
        "MATRIX.ndim"
      ],
      "metadata": {
        "colab": {
          "base_uri": "https://localhost:8080/"
        },
        "id": "zhhgxP-B7zGU",
        "outputId": "2ad8632b-3105-44ff-e8db-6f2b5aa16e43"
      },
      "execution_count": 8,
      "outputs": [
        {
          "output_type": "execute_result",
          "data": {
            "text/plain": [
              "2"
            ]
          },
          "metadata": {},
          "execution_count": 8
        }
      ]
    },
    {
      "cell_type": "code",
      "source": [
        "MATRIX[1]"
      ],
      "metadata": {
        "colab": {
          "base_uri": "https://localhost:8080/"
        },
        "id": "ah9NbXtw73pD",
        "outputId": "3d1f98fd-e2d2-4d28-bdc0-af1bfa3c1e16"
      },
      "execution_count": 9,
      "outputs": [
        {
          "output_type": "execute_result",
          "data": {
            "text/plain": [
              "tensor([ 9, 10])"
            ]
          },
          "metadata": {},
          "execution_count": 9
        }
      ]
    },
    {
      "cell_type": "code",
      "source": [
        "MATRIX.shape"
      ],
      "metadata": {
        "colab": {
          "base_uri": "https://localhost:8080/"
        },
        "id": "62bwVwsn8MEB",
        "outputId": "6b92898e-f635-420a-d634-08f768472369"
      },
      "execution_count": 10,
      "outputs": [
        {
          "output_type": "execute_result",
          "data": {
            "text/plain": [
              "torch.Size([2, 2])"
            ]
          },
          "metadata": {},
          "execution_count": 10
        }
      ]
    },
    {
      "cell_type": "code",
      "source": [
        "TENSOR = torch.tensor([[[1,2,3],[4,5,6],[7,8,9]]])"
      ],
      "metadata": {
        "id": "fKmTXO6R9v0v"
      },
      "execution_count": 11,
      "outputs": []
    },
    {
      "cell_type": "code",
      "source": [
        "TENSOR.ndim"
      ],
      "metadata": {
        "colab": {
          "base_uri": "https://localhost:8080/"
        },
        "id": "j1RLXoE9-GI5",
        "outputId": "e5ab808d-c421-43e7-8b52-1ff4b274b8c9"
      },
      "execution_count": 12,
      "outputs": [
        {
          "output_type": "execute_result",
          "data": {
            "text/plain": [
              "3"
            ]
          },
          "metadata": {},
          "execution_count": 12
        }
      ]
    },
    {
      "cell_type": "code",
      "source": [
        "TENSOR.shape"
      ],
      "metadata": {
        "colab": {
          "base_uri": "https://localhost:8080/"
        },
        "id": "k1lvYlbJ-LRj",
        "outputId": "2f6d26bc-e7b0-49c8-c819-65225d50d6df"
      },
      "execution_count": 13,
      "outputs": [
        {
          "output_type": "execute_result",
          "data": {
            "text/plain": [
              "torch.Size([1, 3, 3])"
            ]
          },
          "metadata": {},
          "execution_count": 13
        }
      ]
    },
    {
      "cell_type": "markdown",
      "source": [
        "###### Lets create one more tensor and expiramend with the ndim , shape and the indexing"
      ],
      "metadata": {
        "id": "1dTSbvzN_xpQ"
      }
    },
    {
      "cell_type": "code",
      "source": [
        "MYTENSOR = torch.tensor([[[1,2,3],[5,6,8],[2,5,6]],[[4,2,3],[5,66,8],[2,5,6]]])"
      ],
      "metadata": {
        "id": "U1Mqowv5AOSH"
      },
      "execution_count": 14,
      "outputs": []
    },
    {
      "cell_type": "code",
      "source": [
        "MYTENSOR.shape"
      ],
      "metadata": {
        "colab": {
          "base_uri": "https://localhost:8080/"
        },
        "id": "Ly29dUlYBBI4",
        "outputId": "8fcd39f3-f984-4bc0-8d4f-bfb051994d6b"
      },
      "execution_count": 15,
      "outputs": [
        {
          "output_type": "execute_result",
          "data": {
            "text/plain": [
              "torch.Size([2, 3, 3])"
            ]
          },
          "metadata": {},
          "execution_count": 15
        }
      ]
    },
    {
      "cell_type": "code",
      "source": [
        "MYTENSOR.ndim"
      ],
      "metadata": {
        "colab": {
          "base_uri": "https://localhost:8080/"
        },
        "id": "3YI1yRvkBHMI",
        "outputId": "27f7ce78-6e15-4025-e958-b3aa05272c90"
      },
      "execution_count": 16,
      "outputs": [
        {
          "output_type": "execute_result",
          "data": {
            "text/plain": [
              "3"
            ]
          },
          "metadata": {},
          "execution_count": 16
        }
      ]
    },
    {
      "cell_type": "code",
      "source": [
        "MYTENSOR[0]"
      ],
      "metadata": {
        "colab": {
          "base_uri": "https://localhost:8080/"
        },
        "id": "1JrqllM7BLD3",
        "outputId": "ce1f7968-34f2-4032-d6a3-ef3c9813c73a"
      },
      "execution_count": 17,
      "outputs": [
        {
          "output_type": "execute_result",
          "data": {
            "text/plain": [
              "tensor([[1, 2, 3],\n",
              "        [5, 6, 8],\n",
              "        [2, 5, 6]])"
            ]
          },
          "metadata": {},
          "execution_count": 17
        }
      ]
    },
    {
      "cell_type": "code",
      "source": [
        "MYTENSOR[1]"
      ],
      "metadata": {
        "colab": {
          "base_uri": "https://localhost:8080/"
        },
        "id": "awMg4_zpBQ1j",
        "outputId": "cfa97714-34ec-4fc6-b9f0-a85979c0646d"
      },
      "execution_count": 18,
      "outputs": [
        {
          "output_type": "execute_result",
          "data": {
            "text/plain": [
              "tensor([[ 4,  2,  3],\n",
              "        [ 5, 66,  8],\n",
              "        [ 2,  5,  6]])"
            ]
          },
          "metadata": {},
          "execution_count": 18
        }
      ]
    },
    {
      "cell_type": "code",
      "source": [
        "MYTENSOR[1,1]"
      ],
      "metadata": {
        "colab": {
          "base_uri": "https://localhost:8080/"
        },
        "id": "VwLN6PfkBivQ",
        "outputId": "162c1123-f009-4a43-fb0f-5591f7d0028e"
      },
      "execution_count": 19,
      "outputs": [
        {
          "output_type": "execute_result",
          "data": {
            "text/plain": [
              "tensor([ 5, 66,  8])"
            ]
          },
          "metadata": {},
          "execution_count": 19
        }
      ]
    },
    {
      "cell_type": "markdown",
      "source": [
        "### Random tensors\n",
        "\n",
        "Random tensors are important because many neural networks:\n",
        "\n",
        "-start with random numbers\n",
        "-look at data\n",
        "-update random numbers\n",
        "-look at data\n",
        "-update"
      ],
      "metadata": {
        "id": "CrluA3hiCR6y"
      }
    },
    {
      "cell_type": "code",
      "source": [
        "# create random tensor size (3,4)\n",
        "\n",
        "random_tensor = torch.rand(3,4)\n",
        "random_tensor"
      ],
      "metadata": {
        "colab": {
          "base_uri": "https://localhost:8080/"
        },
        "id": "-5bxbUxtCQFW",
        "outputId": "2f6c7ce3-272b-41f9-a9c3-ddddb1130f77"
      },
      "execution_count": 20,
      "outputs": [
        {
          "output_type": "execute_result",
          "data": {
            "text/plain": [
              "tensor([[0.7221, 0.2619, 0.3015, 0.7269],\n",
              "        [0.3837, 0.1236, 0.7131, 0.8865],\n",
              "        [0.8156, 0.9544, 0.1598, 0.6717]])"
            ]
          },
          "metadata": {},
          "execution_count": 20
        }
      ]
    },
    {
      "cell_type": "code",
      "source": [
        "random_tensor.ndim"
      ],
      "metadata": {
        "colab": {
          "base_uri": "https://localhost:8080/"
        },
        "id": "2z-cY2lFDAS4",
        "outputId": "e539132f-7c9b-4ba2-e9cc-7b58042afec2"
      },
      "execution_count": 21,
      "outputs": [
        {
          "output_type": "execute_result",
          "data": {
            "text/plain": [
              "2"
            ]
          },
          "metadata": {},
          "execution_count": 21
        }
      ]
    },
    {
      "cell_type": "code",
      "source": [
        "random_tensor.shape"
      ],
      "metadata": {
        "colab": {
          "base_uri": "https://localhost:8080/"
        },
        "id": "sgs4CFlNDAfR",
        "outputId": "57390a01-509f-4cd5-a229-ada536ee1463"
      },
      "execution_count": 22,
      "outputs": [
        {
          "output_type": "execute_result",
          "data": {
            "text/plain": [
              "torch.Size([3, 4])"
            ]
          },
          "metadata": {},
          "execution_count": 22
        }
      ]
    },
    {
      "cell_type": "code",
      "source": [
        "# Create a random tensor with similar shape to an image tensor\n",
        "random_image_size_tensor = torch.rand(size=(224,224,3)) # height,width , color channels (R,G,B)\n",
        "random_image_size_tensor"
      ],
      "metadata": {
        "colab": {
          "base_uri": "https://localhost:8080/"
        },
        "id": "Sn6Jqg0cDAob",
        "outputId": "0c78e205-121a-424b-d555-cebd1aa12bb6"
      },
      "execution_count": 23,
      "outputs": [
        {
          "output_type": "execute_result",
          "data": {
            "text/plain": [
              "tensor([[[0.5053, 0.4427, 0.9188],\n",
              "         [0.3890, 0.2262, 0.7312],\n",
              "         [0.0402, 0.4615, 0.0873],\n",
              "         ...,\n",
              "         [0.4730, 0.2077, 0.0154],\n",
              "         [0.0024, 0.6338, 0.4103],\n",
              "         [0.8297, 0.4120, 0.3347]],\n",
              "\n",
              "        [[0.7553, 0.6535, 0.9922],\n",
              "         [0.9151, 0.1958, 0.0287],\n",
              "         [0.0426, 0.2262, 0.3161],\n",
              "         ...,\n",
              "         [0.0415, 0.7758, 0.1229],\n",
              "         [0.7767, 0.5418, 0.9416],\n",
              "         [0.9376, 0.0186, 0.1287]],\n",
              "\n",
              "        [[0.6498, 0.8641, 0.3622],\n",
              "         [0.9529, 0.9508, 0.0360],\n",
              "         [0.1036, 0.6355, 0.7108],\n",
              "         ...,\n",
              "         [0.1208, 0.2727, 0.7794],\n",
              "         [0.5172, 0.0406, 0.9171],\n",
              "         [0.9592, 0.2551, 0.7165]],\n",
              "\n",
              "        ...,\n",
              "\n",
              "        [[0.5004, 0.1921, 0.4585],\n",
              "         [0.8653, 0.0957, 0.3175],\n",
              "         [0.7562, 0.2440, 0.6394],\n",
              "         ...,\n",
              "         [0.5014, 0.0603, 0.6152],\n",
              "         [0.7477, 0.2894, 0.6790],\n",
              "         [0.2386, 0.1278, 0.1099]],\n",
              "\n",
              "        [[0.8166, 0.9648, 0.9898],\n",
              "         [0.6251, 0.7802, 0.1240],\n",
              "         [0.4855, 0.3684, 0.3939],\n",
              "         ...,\n",
              "         [0.3158, 0.1563, 0.7307],\n",
              "         [0.1213, 0.0442, 0.2809],\n",
              "         [0.0575, 0.5443, 0.6554]],\n",
              "\n",
              "        [[0.5565, 0.3537, 0.6976],\n",
              "         [0.9710, 0.3631, 0.9385],\n",
              "         [0.4258, 0.6325, 0.6845],\n",
              "         ...,\n",
              "         [0.1246, 0.7264, 0.2126],\n",
              "         [0.4514, 0.3879, 0.9962],\n",
              "         [0.6044, 0.3824, 0.9107]]])"
            ]
          },
          "metadata": {},
          "execution_count": 23
        }
      ]
    },
    {
      "cell_type": "code",
      "source": [
        "random_image_size_tensor.shape , random_image_size_tensor.ndim"
      ],
      "metadata": {
        "colab": {
          "base_uri": "https://localhost:8080/"
        },
        "id": "enM-PeScDn6l",
        "outputId": "5f1993dd-99b3-4d19-a1c3-dd68c094836d"
      },
      "execution_count": 24,
      "outputs": [
        {
          "output_type": "execute_result",
          "data": {
            "text/plain": [
              "(torch.Size([224, 224, 3]), 3)"
            ]
          },
          "metadata": {},
          "execution_count": 24
        }
      ]
    },
    {
      "cell_type": "code",
      "source": [
        "# lets create my own random tensor\n",
        "\n",
        "myrandom_tensor = torch.rand(34,3,3,43)\n",
        "myrandom_tensor"
      ],
      "metadata": {
        "id": "j6qScIU3EkYf",
        "outputId": "444eb7e9-92d2-4cb5-f256-f5019df8a853",
        "colab": {
          "base_uri": "https://localhost:8080/"
        }
      },
      "execution_count": 25,
      "outputs": [
        {
          "output_type": "execute_result",
          "data": {
            "text/plain": [
              "tensor([[[[0.5400, 0.5592, 0.1757,  ..., 0.3568, 0.6512, 0.9341],\n",
              "          [0.4017, 0.1306, 0.8263,  ..., 0.7383, 0.3246, 0.2688],\n",
              "          [0.0614, 0.1304, 0.8063,  ..., 0.2564, 0.2328, 0.3964]],\n",
              "\n",
              "         [[0.5472, 0.7516, 0.6080,  ..., 0.9003, 0.0519, 0.3864],\n",
              "          [0.1808, 0.4297, 0.5317,  ..., 0.4950, 0.1075, 0.4025],\n",
              "          [0.8208, 0.4657, 0.4270,  ..., 0.9980, 0.4857, 0.4651]],\n",
              "\n",
              "         [[0.3995, 0.2905, 0.2719,  ..., 0.0680, 0.7806, 0.7670],\n",
              "          [0.8779, 0.7380, 0.9933,  ..., 0.2037, 0.6365, 0.1792],\n",
              "          [0.5053, 0.1198, 0.7038,  ..., 0.0509, 0.1605, 0.5316]]],\n",
              "\n",
              "\n",
              "        [[[0.2488, 0.3440, 0.2350,  ..., 0.4840, 0.0521, 0.7279],\n",
              "          [0.7388, 0.1980, 0.0762,  ..., 0.8777, 0.3411, 0.1569],\n",
              "          [0.4054, 0.7960, 0.8277,  ..., 0.3806, 0.1358, 0.3420]],\n",
              "\n",
              "         [[0.5915, 0.6919, 0.3320,  ..., 0.0396, 0.0104, 0.0854],\n",
              "          [0.1651, 0.7973, 0.9089,  ..., 0.8114, 0.9253, 0.5773],\n",
              "          [0.6219, 0.1654, 0.8144,  ..., 0.6605, 0.1704, 0.2360]],\n",
              "\n",
              "         [[0.5010, 0.7099, 0.8691,  ..., 0.0357, 0.4249, 0.1323],\n",
              "          [0.9255, 0.2980, 0.9247,  ..., 0.2807, 0.1972, 0.3956],\n",
              "          [0.4011, 0.7239, 0.1787,  ..., 0.9178, 0.8601, 0.8965]]],\n",
              "\n",
              "\n",
              "        [[[0.2265, 0.1905, 0.4055,  ..., 0.3551, 0.2928, 0.0654],\n",
              "          [0.8744, 0.7854, 0.2496,  ..., 0.7780, 0.7260, 0.1073],\n",
              "          [0.3699, 0.0409, 0.0084,  ..., 0.0158, 0.6673, 0.3134]],\n",
              "\n",
              "         [[0.5307, 0.4804, 0.0763,  ..., 0.4364, 0.1549, 0.5565],\n",
              "          [0.5473, 0.5339, 0.8513,  ..., 0.1740, 0.7274, 0.8133],\n",
              "          [0.9500, 0.4825, 0.0135,  ..., 0.2540, 0.2966, 0.2053]],\n",
              "\n",
              "         [[0.9437, 0.0591, 0.1718,  ..., 0.7212, 0.9185, 0.8937],\n",
              "          [0.4699, 0.1622, 0.3371,  ..., 0.0752, 0.5204, 0.6658],\n",
              "          [0.7795, 0.6918, 0.7540,  ..., 0.5246, 0.3820, 0.2065]]],\n",
              "\n",
              "\n",
              "        ...,\n",
              "\n",
              "\n",
              "        [[[0.4969, 0.6383, 0.7738,  ..., 0.1168, 0.2780, 0.5516],\n",
              "          [0.1822, 0.0081, 0.4169,  ..., 0.9219, 0.1487, 0.8097],\n",
              "          [0.4254, 0.4291, 0.8782,  ..., 0.5184, 0.0056, 0.0790]],\n",
              "\n",
              "         [[0.2162, 0.1443, 0.3525,  ..., 0.9970, 0.5144, 0.4835],\n",
              "          [0.3261, 0.7856, 0.5339,  ..., 0.5986, 0.2700, 0.3345],\n",
              "          [0.2119, 0.3511, 0.2473,  ..., 0.5982, 0.0779, 0.8538]],\n",
              "\n",
              "         [[0.5543, 0.8421, 0.4432,  ..., 0.1288, 0.8263, 0.3943],\n",
              "          [0.1592, 0.0409, 0.1519,  ..., 0.1854, 0.9914, 0.0937],\n",
              "          [0.5319, 0.1265, 0.1180,  ..., 0.4016, 0.7449, 0.2457]]],\n",
              "\n",
              "\n",
              "        [[[0.0599, 0.0136, 0.0305,  ..., 0.3782, 0.5202, 0.4390],\n",
              "          [0.6750, 0.5090, 0.6407,  ..., 0.0550, 0.8040, 0.7453],\n",
              "          [0.3381, 0.7410, 0.9152,  ..., 0.5543, 0.3825, 0.4869]],\n",
              "\n",
              "         [[0.8759, 0.8455, 0.6064,  ..., 0.4689, 0.2810, 0.3108],\n",
              "          [0.3217, 0.4114, 0.1101,  ..., 0.6605, 0.0498, 0.6314],\n",
              "          [0.0579, 0.7426, 0.6780,  ..., 0.1876, 0.5583, 0.9787]],\n",
              "\n",
              "         [[0.3599, 0.1281, 0.4444,  ..., 0.8616, 0.6202, 0.5585],\n",
              "          [0.4537, 0.2903, 0.9178,  ..., 0.4130, 0.3376, 0.5236],\n",
              "          [0.6331, 0.0540, 0.0161,  ..., 0.9389, 0.3004, 0.3878]]],\n",
              "\n",
              "\n",
              "        [[[0.5345, 0.5724, 0.9916,  ..., 0.2156, 0.3302, 0.3348],\n",
              "          [0.0044, 0.4655, 0.5402,  ..., 0.0858, 0.5291, 0.9607],\n",
              "          [0.2971, 0.9160, 0.6600,  ..., 0.8701, 0.8828, 0.9606]],\n",
              "\n",
              "         [[0.9515, 0.2711, 0.3462,  ..., 0.0100, 0.9645, 0.7331],\n",
              "          [0.8018, 0.6307, 0.6438,  ..., 0.8186, 0.5661, 0.3120],\n",
              "          [0.7407, 0.3681, 0.5740,  ..., 0.7215, 0.0540, 0.1549]],\n",
              "\n",
              "         [[0.3836, 0.5508, 0.3332,  ..., 0.9774, 0.3537, 0.1543],\n",
              "          [0.0190, 0.5352, 0.5496,  ..., 0.7378, 0.3785, 0.7123],\n",
              "          [0.5316, 0.5814, 0.9089,  ..., 0.3508, 0.2198, 0.1726]]]])"
            ]
          },
          "metadata": {},
          "execution_count": 25
        }
      ]
    },
    {
      "cell_type": "code",
      "source": [
        "myrandom_tensor.shape , myrandom_tensor.ndim"
      ],
      "metadata": {
        "id": "9P0-DJ_yGOaf",
        "outputId": "a20af433-c724-4620-faed-2b34ae588fe6",
        "colab": {
          "base_uri": "https://localhost:8080/"
        }
      },
      "execution_count": 26,
      "outputs": [
        {
          "output_type": "execute_result",
          "data": {
            "text/plain": [
              "(torch.Size([34, 3, 3, 43]), 4)"
            ]
          },
          "metadata": {},
          "execution_count": 26
        }
      ]
    },
    {
      "cell_type": "markdown",
      "source": [
        "# ZEROS AND ONES"
      ],
      "metadata": {
        "id": "J67Cw7_DRuuA"
      }
    },
    {
      "cell_type": "code",
      "source": [
        "ZEROS_TENSOR = torch.zeros(size =(2,3))\n",
        "ZEROS_TENSOR"
      ],
      "metadata": {
        "id": "GkaenntrRUZH",
        "outputId": "9e744df7-3ac8-40a4-ccb5-24840465f079",
        "colab": {
          "base_uri": "https://localhost:8080/"
        }
      },
      "execution_count": 27,
      "outputs": [
        {
          "output_type": "execute_result",
          "data": {
            "text/plain": [
              "tensor([[0., 0., 0.],\n",
              "        [0., 0., 0.]])"
            ]
          },
          "metadata": {},
          "execution_count": 27
        }
      ]
    },
    {
      "cell_type": "code",
      "source": [
        "ONES_TENSOR = torch.ones(2,3)\n",
        "ONES_TENSOR , ONES_TENSOR.dtype"
      ],
      "metadata": {
        "id": "XrpWtdFER-ys",
        "outputId": "085affbd-d99d-4f7b-dd77-db69be4af47e",
        "colab": {
          "base_uri": "https://localhost:8080/"
        }
      },
      "execution_count": 28,
      "outputs": [
        {
          "output_type": "execute_result",
          "data": {
            "text/plain": [
              "(tensor([[1., 1., 1.],\n",
              "         [1., 1., 1.]]),\n",
              " torch.float32)"
            ]
          },
          "metadata": {},
          "execution_count": 28
        }
      ]
    },
    {
      "cell_type": "markdown",
      "source": [
        "### Creating a range of tensors and tensors-like"
      ],
      "metadata": {
        "id": "-9gzgQI2Sjxj"
      }
    },
    {
      "cell_type": "code",
      "source": [
        "# Lets use torch.arange() the old functions was range()\n",
        "\n",
        "one_to_ten = torch.arange(start=1,end= 11)\n",
        "one_to_ten"
      ],
      "metadata": {
        "id": "ToDyBCDDSi7p",
        "outputId": "93c9f4b2-b6b9-4316-e40b-2ac027c998da",
        "colab": {
          "base_uri": "https://localhost:8080/"
        }
      },
      "execution_count": 29,
      "outputs": [
        {
          "output_type": "execute_result",
          "data": {
            "text/plain": [
              "tensor([ 1,  2,  3,  4,  5,  6,  7,  8,  9, 10])"
            ]
          },
          "metadata": {},
          "execution_count": 29
        }
      ]
    },
    {
      "cell_type": "code",
      "source": [
        "with_steps = torch.arange(start=1,end= 11 , step= 3)\n",
        "with_steps"
      ],
      "metadata": {
        "id": "owhd58xNSr7g",
        "outputId": "a8b2c5ad-c04b-4e35-a37f-11527a46e3e7",
        "colab": {
          "base_uri": "https://localhost:8080/"
        }
      },
      "execution_count": 30,
      "outputs": [
        {
          "output_type": "execute_result",
          "data": {
            "text/plain": [
              "tensor([ 1,  4,  7, 10])"
            ]
          },
          "metadata": {},
          "execution_count": 30
        }
      ]
    },
    {
      "cell_type": "code",
      "source": [
        "# Creating tensors  like\n",
        "\n",
        "ten_zeros = torch.zeros_like(input=one_to_ten)\n",
        "ten_zeros"
      ],
      "metadata": {
        "id": "eevJAkEwSr_b",
        "outputId": "b9852541-35a6-4e50-b945-3adfeaa8e9da",
        "colab": {
          "base_uri": "https://localhost:8080/"
        }
      },
      "execution_count": 31,
      "outputs": [
        {
          "output_type": "execute_result",
          "data": {
            "text/plain": [
              "tensor([0, 0, 0, 0, 0, 0, 0, 0, 0, 0])"
            ]
          },
          "metadata": {},
          "execution_count": 31
        }
      ]
    },
    {
      "cell_type": "markdown",
      "source": [
        "### Tensor datatypes"
      ],
      "metadata": {
        "id": "i_Ic99kvUWe9"
      }
    },
    {
      "cell_type": "code",
      "source": [
        "# Float 32 tensor\n",
        "# When a number takes less memory , you can calculate faster ,\n",
        "# when a number is larger you can calculate more acurate\n",
        "\n",
        "\n",
        "float_32_tensor = torch.tensor([3.0,6.0,9.0], dtype=None, # What datatype is the tensor\n",
        "                               device=None, # What device is your tensor\n",
        "                               requires_grad=False) # whether or not to track gradients with this tensors operations\n",
        "float_32_tensor"
      ],
      "metadata": {
        "id": "oWeMvqmWThBp",
        "outputId": "3f6c0f6b-4cfc-446b-c495-0480205723fc",
        "colab": {
          "base_uri": "https://localhost:8080/"
        }
      },
      "execution_count": 32,
      "outputs": [
        {
          "output_type": "execute_result",
          "data": {
            "text/plain": [
              "tensor([3., 6., 9.])"
            ]
          },
          "metadata": {},
          "execution_count": 32
        }
      ]
    },
    {
      "cell_type": "code",
      "source": [
        "float_16_tensor = float_32_tensor.type(torch.float16)\n",
        "float_16_tensor"
      ],
      "metadata": {
        "id": "dRGsQe5dXLuc",
        "colab": {
          "base_uri": "https://localhost:8080/"
        },
        "outputId": "5515b2f7-2a38-4736-91a4-3f8ab03ee83d"
      },
      "execution_count": 33,
      "outputs": [
        {
          "output_type": "execute_result",
          "data": {
            "text/plain": [
              "tensor([3., 6., 9.], dtype=torch.float16)"
            ]
          },
          "metadata": {},
          "execution_count": 33
        }
      ]
    },
    {
      "cell_type": "code",
      "source": [
        "# sometimes it works but not every time , in this case it works\n",
        "float_16_tensor * float_32_tensor"
      ],
      "metadata": {
        "colab": {
          "base_uri": "https://localhost:8080/"
        },
        "id": "aZSzvEXe9cPJ",
        "outputId": "39432069-4f86-4ab1-d415-42e574e017ec"
      },
      "execution_count": 34,
      "outputs": [
        {
          "output_type": "execute_result",
          "data": {
            "text/plain": [
              "tensor([ 9., 36., 81.])"
            ]
          },
          "metadata": {},
          "execution_count": 34
        }
      ]
    },
    {
      "cell_type": "markdown",
      "source": [
        "### Getting inforamation from tensors\n",
        "\n",
        "1. if tensor is not right datatype - tensor.dtype\n",
        "2. if tensor not right shape - tensor.shape\n",
        "3. if tensor not on the right device - tensor.device"
      ],
      "metadata": {
        "id": "QC8wS4Li-lKl"
      }
    },
    {
      "cell_type": "code",
      "source": [
        "# Creating a tensor\n",
        "\n",
        "some_tensor = torch.rand(3,4)\n",
        "some_tensor"
      ],
      "metadata": {
        "id": "Mc0hXCMd_QIG",
        "outputId": "8fc444b5-a44b-4d29-91ea-bc9946880a1a",
        "colab": {
          "base_uri": "https://localhost:8080/"
        }
      },
      "execution_count": 35,
      "outputs": [
        {
          "output_type": "execute_result",
          "data": {
            "text/plain": [
              "tensor([[0.6066, 0.7142, 0.1214, 0.9720],\n",
              "        [0.2823, 0.8030, 0.3070, 0.8768],\n",
              "        [0.4131, 0.3175, 0.9247, 0.9239]])"
            ]
          },
          "metadata": {},
          "execution_count": 35
        }
      ]
    },
    {
      "cell_type": "code",
      "source": [
        "# Find out details about the tensor\n",
        "print(some_tensor)\n",
        "print(f\"Datatype of tensor: {some_tensor.dtype}\")\n",
        "print(f\"Shape of tensor: {some_tensor.shape} Its also the same thing with the function size() {some_tensor.size()}\")\n",
        "print(f\"Device tensor is on: {some_tensor.device}\")"
      ],
      "metadata": {
        "id": "W73VY1r1_XLY",
        "outputId": "ccfc8ece-c695-4b81-b284-c5858ece05d6",
        "colab": {
          "base_uri": "https://localhost:8080/"
        }
      },
      "execution_count": 36,
      "outputs": [
        {
          "output_type": "stream",
          "name": "stdout",
          "text": [
            "tensor([[0.6066, 0.7142, 0.1214, 0.9720],\n",
            "        [0.2823, 0.8030, 0.3070, 0.8768],\n",
            "        [0.4131, 0.3175, 0.9247, 0.9239]])\n",
            "Datatype of tensor: torch.float32\n",
            "Shape of tensor: torch.Size([3, 4]) Its also the same thing with the function size() torch.Size([3, 4])\n",
            "Device tensor is on: cpu\n"
          ]
        }
      ]
    },
    {
      "cell_type": "code",
      "source": [
        "some_tensor.cuda()\n",
        "print(f\"Device tensor is on: {some_tensor.device}\")"
      ],
      "metadata": {
        "id": "SGtoVgzOACU9",
        "outputId": "4bfcd06a-09fb-405c-f5e6-480f4f518776",
        "colab": {
          "base_uri": "https://localhost:8080/"
        }
      },
      "execution_count": 42,
      "outputs": [
        {
          "output_type": "stream",
          "name": "stdout",
          "text": [
            "Device tensor is on: cpu\n"
          ]
        }
      ]
    },
    {
      "cell_type": "code",
      "source": [
        "!nvidia"
      ],
      "metadata": {
        "id": "PZTt5cpGBWD6",
        "outputId": "de53c4bf-1c7b-44d1-b559-0de86d2a4c31",
        "colab": {
          "base_uri": "https://localhost:8080/"
        }
      },
      "execution_count": 43,
      "outputs": [
        {
          "output_type": "stream",
          "name": "stdout",
          "text": [
            "/bin/bash: line 1: nvidia: command not found\n"
          ]
        }
      ]
    }
  ]
}