{
  "nbformat": 4,
  "nbformat_minor": 0,
  "metadata": {
    "colab": {
      "provenance": [],
      "authorship_tag": "ABX9TyPr9JoSC3V2MYXwnbK5Xife",
      "include_colab_link": true
    },
    "kernelspec": {
      "name": "python3",
      "display_name": "Python 3"
    },
    "language_info": {
      "name": "python"
    }
  },
  "cells": [
    {
      "cell_type": "markdown",
      "metadata": {
        "id": "view-in-github",
        "colab_type": "text"
      },
      "source": [
        "<a href=\"https://colab.research.google.com/github/AndrewDem04/pyTorch_fundamentals/blob/main/00_pyTorch_fundamentals.ipynb\" target=\"_parent\"><img src=\"https://colab.research.google.com/assets/colab-badge.svg\" alt=\"Open In Colab\"/></a>"
      ]
    },
    {
      "cell_type": "code",
      "execution_count": 115,
      "metadata": {
        "colab": {
          "base_uri": "https://localhost:8080/"
        },
        "id": "8vvQHGdliYSw",
        "outputId": "cca0f0d3-2cdb-4bb0-e98e-9061d43cb980"
      },
      "outputs": [
        {
          "output_type": "stream",
          "name": "stdout",
          "text": [
            "2.6.0+cu124\n"
          ]
        }
      ],
      "source": [
        "import torch\n",
        "print(torch.__version__)"
      ]
    },
    {
      "cell_type": "markdown",
      "source": [
        "## Introduction to Tensors\n"
      ],
      "metadata": {
        "id": "_DARb4tckgfN"
      }
    },
    {
      "cell_type": "markdown",
      "source": [
        "### scaral"
      ],
      "metadata": {
        "id": "gtlDV4yB6u1_"
      }
    },
    {
      "cell_type": "code",
      "source": [
        "# we have difrente types of tensors\n",
        "#You must see the -- torch.tensor documentation and what tensor is\n",
        "# scaral\n",
        "\n",
        "scalar = torch.tensor(7)\n",
        "scalar.item()"
      ],
      "metadata": {
        "colab": {
          "base_uri": "https://localhost:8080/"
        },
        "id": "lT65Tlmcjw1h",
        "outputId": "87113197-603d-498a-98d6-8599416e50b9"
      },
      "execution_count": 116,
      "outputs": [
        {
          "output_type": "execute_result",
          "data": {
            "text/plain": [
              "7"
            ]
          },
          "metadata": {},
          "execution_count": 116
        }
      ]
    },
    {
      "cell_type": "code",
      "source": [],
      "metadata": {
        "id": "_QshjnvJ66QL"
      },
      "execution_count": 116,
      "outputs": []
    },
    {
      "cell_type": "markdown",
      "source": [
        "### vector"
      ],
      "metadata": {
        "id": "YV5XQEq86fmd"
      }
    },
    {
      "cell_type": "code",
      "source": [
        "# vector\n",
        "vector = torch.tensor([7,7])\n",
        "vector"
      ],
      "metadata": {
        "colab": {
          "base_uri": "https://localhost:8080/"
        },
        "id": "_zvARckQ6rph",
        "outputId": "26666a1f-bb08-4b32-ccd5-dcdb1dfd4adb"
      },
      "execution_count": 117,
      "outputs": [
        {
          "output_type": "execute_result",
          "data": {
            "text/plain": [
              "tensor([7, 7])"
            ]
          },
          "metadata": {},
          "execution_count": 117
        }
      ]
    },
    {
      "cell_type": "code",
      "source": [
        "# how meny dimension it have --ndim\n",
        "vector.ndim"
      ],
      "metadata": {
        "colab": {
          "base_uri": "https://localhost:8080/"
        },
        "id": "tEL2nx-q67z9",
        "outputId": "d35df032-89e7-4084-e3a3-f75b80e786a1"
      },
      "execution_count": 118,
      "outputs": [
        {
          "output_type": "execute_result",
          "data": {
            "text/plain": [
              "1"
            ]
          },
          "metadata": {},
          "execution_count": 118
        }
      ]
    },
    {
      "cell_type": "code",
      "source": [
        "vector.shape"
      ],
      "metadata": {
        "colab": {
          "base_uri": "https://localhost:8080/"
        },
        "id": "HMuo2-jo7UNk",
        "outputId": "9a7045a4-f087-4864-86b7-f64770791b37"
      },
      "execution_count": 119,
      "outputs": [
        {
          "output_type": "execute_result",
          "data": {
            "text/plain": [
              "torch.Size([2])"
            ]
          },
          "metadata": {},
          "execution_count": 119
        }
      ]
    },
    {
      "cell_type": "code",
      "source": [
        "MATRIX = torch.tensor([[7,8],[9,10]])"
      ],
      "metadata": {
        "id": "Fu_HjQw87exu"
      },
      "execution_count": 120,
      "outputs": []
    },
    {
      "cell_type": "code",
      "source": [
        "MATRIX.ndim"
      ],
      "metadata": {
        "colab": {
          "base_uri": "https://localhost:8080/"
        },
        "id": "zhhgxP-B7zGU",
        "outputId": "620829f3-0458-4f10-dca8-3fb1c36aae0e"
      },
      "execution_count": 121,
      "outputs": [
        {
          "output_type": "execute_result",
          "data": {
            "text/plain": [
              "2"
            ]
          },
          "metadata": {},
          "execution_count": 121
        }
      ]
    },
    {
      "cell_type": "code",
      "source": [
        "MATRIX[1]"
      ],
      "metadata": {
        "colab": {
          "base_uri": "https://localhost:8080/"
        },
        "id": "ah9NbXtw73pD",
        "outputId": "34829fa2-b704-4868-8163-3e550014181d"
      },
      "execution_count": 122,
      "outputs": [
        {
          "output_type": "execute_result",
          "data": {
            "text/plain": [
              "tensor([ 9, 10])"
            ]
          },
          "metadata": {},
          "execution_count": 122
        }
      ]
    },
    {
      "cell_type": "code",
      "source": [
        "MATRIX.shape"
      ],
      "metadata": {
        "colab": {
          "base_uri": "https://localhost:8080/"
        },
        "id": "62bwVwsn8MEB",
        "outputId": "83631111-1628-4d23-fb2b-d2433d09bcbf"
      },
      "execution_count": 123,
      "outputs": [
        {
          "output_type": "execute_result",
          "data": {
            "text/plain": [
              "torch.Size([2, 2])"
            ]
          },
          "metadata": {},
          "execution_count": 123
        }
      ]
    },
    {
      "cell_type": "code",
      "source": [
        "TENSOR = torch.tensor([[[1,2,3],[4,5,6],[7,8,9]]])"
      ],
      "metadata": {
        "id": "fKmTXO6R9v0v"
      },
      "execution_count": 124,
      "outputs": []
    },
    {
      "cell_type": "code",
      "source": [
        "TENSOR.ndim"
      ],
      "metadata": {
        "colab": {
          "base_uri": "https://localhost:8080/"
        },
        "id": "j1RLXoE9-GI5",
        "outputId": "1af8923b-00c3-4f57-cfb7-3a69f3dc10fb"
      },
      "execution_count": 125,
      "outputs": [
        {
          "output_type": "execute_result",
          "data": {
            "text/plain": [
              "3"
            ]
          },
          "metadata": {},
          "execution_count": 125
        }
      ]
    },
    {
      "cell_type": "code",
      "source": [
        "TENSOR.shape"
      ],
      "metadata": {
        "colab": {
          "base_uri": "https://localhost:8080/"
        },
        "id": "k1lvYlbJ-LRj",
        "outputId": "bee96679-00f0-411e-cc04-1cafd2663a8a"
      },
      "execution_count": 126,
      "outputs": [
        {
          "output_type": "execute_result",
          "data": {
            "text/plain": [
              "torch.Size([1, 3, 3])"
            ]
          },
          "metadata": {},
          "execution_count": 126
        }
      ]
    },
    {
      "cell_type": "markdown",
      "source": [
        "###### Lets create one more tensor and expiramend with the ndim , shape and the indexing"
      ],
      "metadata": {
        "id": "1dTSbvzN_xpQ"
      }
    },
    {
      "cell_type": "code",
      "source": [
        "MYTENSOR = torch.tensor([[[1,2,3],[5,6,8],[2,5,6]],[[4,2,3],[5,66,8],[2,5,6]]])"
      ],
      "metadata": {
        "id": "U1Mqowv5AOSH"
      },
      "execution_count": 140,
      "outputs": []
    },
    {
      "cell_type": "code",
      "source": [
        "MYTENSOR.shape"
      ],
      "metadata": {
        "colab": {
          "base_uri": "https://localhost:8080/"
        },
        "id": "Ly29dUlYBBI4",
        "outputId": "9f46b14b-d8db-43e6-8a0a-4e9635d8975d"
      },
      "execution_count": 141,
      "outputs": [
        {
          "output_type": "execute_result",
          "data": {
            "text/plain": [
              "torch.Size([2, 3, 3])"
            ]
          },
          "metadata": {},
          "execution_count": 141
        }
      ]
    },
    {
      "cell_type": "code",
      "source": [
        "MYTENSOR.ndim"
      ],
      "metadata": {
        "colab": {
          "base_uri": "https://localhost:8080/"
        },
        "id": "3YI1yRvkBHMI",
        "outputId": "c099018f-cf38-4076-a13e-f6d9f8f1f071"
      },
      "execution_count": 142,
      "outputs": [
        {
          "output_type": "execute_result",
          "data": {
            "text/plain": [
              "3"
            ]
          },
          "metadata": {},
          "execution_count": 142
        }
      ]
    },
    {
      "cell_type": "code",
      "source": [
        "MYTENSOR[0]"
      ],
      "metadata": {
        "colab": {
          "base_uri": "https://localhost:8080/"
        },
        "id": "1JrqllM7BLD3",
        "outputId": "f9db66b9-01c9-454b-d91d-1ef6a70e9f04"
      },
      "execution_count": 143,
      "outputs": [
        {
          "output_type": "execute_result",
          "data": {
            "text/plain": [
              "tensor([[1, 2, 3],\n",
              "        [5, 6, 8],\n",
              "        [2, 5, 6]])"
            ]
          },
          "metadata": {},
          "execution_count": 143
        }
      ]
    },
    {
      "cell_type": "code",
      "source": [
        "MYTENSOR[1]"
      ],
      "metadata": {
        "colab": {
          "base_uri": "https://localhost:8080/"
        },
        "id": "awMg4_zpBQ1j",
        "outputId": "0deea98c-1963-4e28-99e5-29c19d01d585"
      },
      "execution_count": 144,
      "outputs": [
        {
          "output_type": "execute_result",
          "data": {
            "text/plain": [
              "tensor([[ 4,  2,  3],\n",
              "        [ 5, 66,  8],\n",
              "        [ 2,  5,  6]])"
            ]
          },
          "metadata": {},
          "execution_count": 144
        }
      ]
    },
    {
      "cell_type": "code",
      "source": [
        "MYTENSOR[1,1]"
      ],
      "metadata": {
        "colab": {
          "base_uri": "https://localhost:8080/"
        },
        "id": "VwLN6PfkBivQ",
        "outputId": "ae3e6829-955f-4347-f08b-eccc2a271f0f"
      },
      "execution_count": 145,
      "outputs": [
        {
          "output_type": "execute_result",
          "data": {
            "text/plain": [
              "tensor([ 5, 66,  8])"
            ]
          },
          "metadata": {},
          "execution_count": 145
        }
      ]
    },
    {
      "cell_type": "markdown",
      "source": [
        "### Random tensors\n",
        "\n",
        "Random tensors are important because many neural networks:\n",
        "\n",
        "-start with random numbers\n",
        "-look at data\n",
        "-update random numbers\n",
        "-look at data\n",
        "-update"
      ],
      "metadata": {
        "id": "CrluA3hiCR6y"
      }
    },
    {
      "cell_type": "code",
      "source": [
        "# create random tensor size (3,4)\n",
        "\n",
        "random_tensor = torch.rand(3,4)\n",
        "random_tensor"
      ],
      "metadata": {
        "colab": {
          "base_uri": "https://localhost:8080/"
        },
        "id": "-5bxbUxtCQFW",
        "outputId": "3f788140-7773-4e30-d589-08dd2976bd89"
      },
      "execution_count": 146,
      "outputs": [
        {
          "output_type": "execute_result",
          "data": {
            "text/plain": [
              "tensor([[0.2340, 0.7795, 0.3199, 0.8131],\n",
              "        [0.0534, 0.1105, 0.1944, 0.6161],\n",
              "        [0.2372, 0.5719, 0.9677, 0.4380]])"
            ]
          },
          "metadata": {},
          "execution_count": 146
        }
      ]
    },
    {
      "cell_type": "code",
      "source": [
        "random_tensor.ndim"
      ],
      "metadata": {
        "colab": {
          "base_uri": "https://localhost:8080/"
        },
        "id": "2z-cY2lFDAS4",
        "outputId": "e1472912-870c-446d-e7c3-d742321cc14a"
      },
      "execution_count": 147,
      "outputs": [
        {
          "output_type": "execute_result",
          "data": {
            "text/plain": [
              "2"
            ]
          },
          "metadata": {},
          "execution_count": 147
        }
      ]
    },
    {
      "cell_type": "code",
      "source": [
        "random_tensor.shape"
      ],
      "metadata": {
        "colab": {
          "base_uri": "https://localhost:8080/"
        },
        "id": "sgs4CFlNDAfR",
        "outputId": "ad944ceb-5d69-49ef-882d-8625929c83e6"
      },
      "execution_count": 148,
      "outputs": [
        {
          "output_type": "execute_result",
          "data": {
            "text/plain": [
              "torch.Size([3, 4])"
            ]
          },
          "metadata": {},
          "execution_count": 148
        }
      ]
    },
    {
      "cell_type": "code",
      "source": [
        "# Create a random tensor with similar shape to an image tensor\n",
        "random_image_size_tensor = torch.rand(size=(224,224,3)) # height,width , color channels (R,G,B)\n",
        "random_image_size_tensor"
      ],
      "metadata": {
        "colab": {
          "base_uri": "https://localhost:8080/"
        },
        "id": "Sn6Jqg0cDAob",
        "outputId": "7d94d384-ba5a-4460-a3dc-4bd3e4848f82"
      },
      "execution_count": 150,
      "outputs": [
        {
          "output_type": "execute_result",
          "data": {
            "text/plain": [
              "tensor([[[0.9871, 0.8121, 0.0419],\n",
              "         [0.4271, 0.7384, 0.1986],\n",
              "         [0.6772, 0.6203, 0.9423],\n",
              "         ...,\n",
              "         [0.6351, 0.6312, 0.9178],\n",
              "         [0.3270, 0.2796, 0.9143],\n",
              "         [0.3283, 0.2088, 0.8481]],\n",
              "\n",
              "        [[0.2668, 0.5152, 0.0962],\n",
              "         [0.0328, 0.7667, 0.3237],\n",
              "         [0.5567, 0.7329, 0.2002],\n",
              "         ...,\n",
              "         [0.9014, 0.9523, 0.4908],\n",
              "         [0.5373, 0.6661, 0.5476],\n",
              "         [0.0543, 0.4173, 0.0526]],\n",
              "\n",
              "        [[0.2453, 0.7237, 0.4930],\n",
              "         [0.5884, 0.2215, 0.5425],\n",
              "         [0.3271, 0.3384, 0.4013],\n",
              "         ...,\n",
              "         [0.3579, 0.8875, 0.4731],\n",
              "         [0.2484, 0.4048, 0.2696],\n",
              "         [0.5562, 0.7207, 0.1049]],\n",
              "\n",
              "        ...,\n",
              "\n",
              "        [[0.5644, 0.6018, 0.0457],\n",
              "         [0.4237, 0.2122, 0.5958],\n",
              "         [0.1999, 0.7135, 0.8747],\n",
              "         ...,\n",
              "         [0.9848, 0.9184, 0.3131],\n",
              "         [0.4073, 0.6586, 0.4279],\n",
              "         [0.5838, 0.0086, 0.5577]],\n",
              "\n",
              "        [[0.6262, 0.9741, 0.6071],\n",
              "         [0.0747, 0.9263, 0.0697],\n",
              "         [0.5160, 0.7898, 0.2360],\n",
              "         ...,\n",
              "         [0.0875, 0.6564, 0.4737],\n",
              "         [0.2684, 0.1078, 0.1333],\n",
              "         [0.0651, 0.8618, 0.4726]],\n",
              "\n",
              "        [[0.5676, 0.0685, 0.6101],\n",
              "         [0.8308, 0.9701, 0.8025],\n",
              "         [0.0021, 0.5574, 0.4129],\n",
              "         ...,\n",
              "         [0.7629, 0.6607, 0.6734],\n",
              "         [0.3434, 0.0645, 0.2984],\n",
              "         [0.0216, 0.7711, 0.1537]]])"
            ]
          },
          "metadata": {},
          "execution_count": 150
        }
      ]
    },
    {
      "cell_type": "code",
      "source": [
        "random_image_size_tensor.shape , random_image_size_tensor.ndim"
      ],
      "metadata": {
        "colab": {
          "base_uri": "https://localhost:8080/"
        },
        "id": "enM-PeScDn6l",
        "outputId": "36df52fe-980d-484f-def0-3acbde511a58"
      },
      "execution_count": 151,
      "outputs": [
        {
          "output_type": "execute_result",
          "data": {
            "text/plain": [
              "(torch.Size([224, 224, 3]), 3)"
            ]
          },
          "metadata": {},
          "execution_count": 151
        }
      ]
    },
    {
      "cell_type": "code",
      "source": [
        "# lets create my own random tensor\n",
        "\n",
        "myrandom_tensor = torch.rand(34,3,3,43)\n",
        "myrandom_tensor"
      ],
      "metadata": {
        "id": "j6qScIU3EkYf",
        "outputId": "96415c99-c4b6-4f98-ed34-45a27d1e30ea",
        "colab": {
          "base_uri": "https://localhost:8080/"
        }
      },
      "execution_count": 153,
      "outputs": [
        {
          "output_type": "execute_result",
          "data": {
            "text/plain": [
              "tensor([[[[0.3581, 0.3259, 0.9014,  ..., 0.3467, 0.0955, 0.0637],\n",
              "          [0.9285, 0.4054, 0.9839,  ..., 0.4727, 0.0140, 0.4811],\n",
              "          [0.8145, 0.4171, 0.0796,  ..., 0.5590, 0.8140, 0.4891]],\n",
              "\n",
              "         [[0.0730, 0.0898, 0.6168,  ..., 0.2853, 0.0807, 0.7625],\n",
              "          [0.8368, 0.3369, 0.1355,  ..., 0.2728, 0.9137, 0.1149],\n",
              "          [0.7611, 0.6846, 0.7412,  ..., 0.3295, 0.6021, 0.5227]],\n",
              "\n",
              "         [[0.3780, 0.1654, 0.3687,  ..., 0.7235, 0.9151, 0.7659],\n",
              "          [0.4175, 0.3096, 0.9776,  ..., 0.2799, 0.0463, 0.3073],\n",
              "          [0.2286, 0.6139, 0.6727,  ..., 0.9264, 0.3822, 0.3216]]],\n",
              "\n",
              "\n",
              "        [[[0.0641, 0.3400, 0.3665,  ..., 0.1752, 0.7119, 0.0715],\n",
              "          [0.1829, 0.3567, 0.5079,  ..., 0.5831, 0.7926, 0.4082],\n",
              "          [0.2628, 0.8915, 0.4645,  ..., 0.8169, 0.7385, 0.9375]],\n",
              "\n",
              "         [[0.8327, 0.8186, 0.4349,  ..., 0.9268, 0.9124, 0.9936],\n",
              "          [0.7623, 0.8551, 0.3471,  ..., 0.4705, 0.9483, 0.9380],\n",
              "          [0.2441, 0.7329, 0.8890,  ..., 0.8299, 0.3008, 0.5895]],\n",
              "\n",
              "         [[0.8879, 0.3721, 0.5466,  ..., 0.0641, 0.2106, 0.6989],\n",
              "          [0.7936, 0.8119, 0.7028,  ..., 0.1885, 0.7279, 0.5770],\n",
              "          [0.4160, 0.8140, 0.7902,  ..., 0.9384, 0.5137, 0.1210]]],\n",
              "\n",
              "\n",
              "        [[[0.8871, 0.5499, 0.6989,  ..., 0.9018, 0.2654, 0.2603],\n",
              "          [0.6548, 0.8537, 0.8908,  ..., 0.9950, 0.3636, 0.5810],\n",
              "          [0.5187, 0.1355, 0.2893,  ..., 0.8497, 0.8442, 0.9509]],\n",
              "\n",
              "         [[0.7499, 0.2157, 0.3540,  ..., 0.7748, 0.4419, 0.9284],\n",
              "          [0.9607, 0.0425, 0.6315,  ..., 0.9121, 0.0161, 0.7420],\n",
              "          [0.2257, 0.6657, 0.5880,  ..., 0.5328, 0.2746, 0.8616]],\n",
              "\n",
              "         [[0.3698, 0.5978, 0.7749,  ..., 0.8954, 0.9527, 0.6962],\n",
              "          [0.9668, 0.5435, 0.0684,  ..., 0.6361, 0.0331, 0.8978],\n",
              "          [0.5480, 0.6063, 0.9119,  ..., 0.0032, 0.8388, 0.0507]]],\n",
              "\n",
              "\n",
              "        ...,\n",
              "\n",
              "\n",
              "        [[[0.5776, 0.3924, 0.6061,  ..., 0.5386, 0.9678, 0.1415],\n",
              "          [0.9242, 0.7548, 0.4311,  ..., 0.8830, 0.7424, 0.8405],\n",
              "          [0.9986, 0.1315, 0.1521,  ..., 0.2420, 0.8531, 0.9391]],\n",
              "\n",
              "         [[0.4340, 0.4245, 0.2246,  ..., 0.2110, 0.8083, 0.5899],\n",
              "          [0.5210, 0.9634, 0.0664,  ..., 0.4855, 0.3866, 0.1148],\n",
              "          [0.7687, 0.4272, 0.6898,  ..., 0.9296, 0.5808, 0.8854]],\n",
              "\n",
              "         [[0.7679, 0.3373, 0.6451,  ..., 0.6663, 0.8737, 0.5126],\n",
              "          [0.2787, 0.9161, 0.6711,  ..., 0.1344, 0.4463, 0.3559],\n",
              "          [0.3777, 0.1690, 0.4748,  ..., 0.8092, 0.1300, 0.7932]]],\n",
              "\n",
              "\n",
              "        [[[0.5357, 0.6959, 0.9665,  ..., 0.3950, 0.3635, 0.4030],\n",
              "          [0.1846, 0.6893, 0.7621,  ..., 0.1930, 0.9322, 0.3344],\n",
              "          [0.8048, 0.5101, 0.4715,  ..., 0.4990, 0.1127, 0.0324]],\n",
              "\n",
              "         [[0.9792, 0.5731, 0.4781,  ..., 0.1079, 0.0866, 0.6803],\n",
              "          [0.1161, 0.8928, 0.5643,  ..., 0.7979, 0.5770, 0.1266],\n",
              "          [0.7410, 0.8120, 0.8840,  ..., 0.4307, 0.2162, 0.9776]],\n",
              "\n",
              "         [[0.3951, 0.5105, 0.6767,  ..., 0.0336, 0.5416, 0.2515],\n",
              "          [0.4768, 0.5572, 0.4174,  ..., 0.7564, 0.7005, 0.8089],\n",
              "          [0.4031, 0.2588, 0.3336,  ..., 0.6159, 0.4350, 0.2691]]],\n",
              "\n",
              "\n",
              "        [[[0.6267, 0.3126, 0.9747,  ..., 0.6644, 0.8926, 0.8456],\n",
              "          [0.6915, 0.4885, 0.9440,  ..., 0.4774, 0.6759, 0.1019],\n",
              "          [0.2100, 0.1578, 0.5965,  ..., 0.3455, 0.9335, 0.5192]],\n",
              "\n",
              "         [[0.8905, 0.7323, 0.2262,  ..., 0.4546, 0.5500, 0.0679],\n",
              "          [0.2038, 0.2362, 0.4806,  ..., 0.3238, 0.5076, 0.8651],\n",
              "          [0.7790, 0.2976, 0.2557,  ..., 0.2879, 0.0938, 0.6177]],\n",
              "\n",
              "         [[0.6648, 0.3516, 0.2741,  ..., 0.6564, 0.5349, 0.4165],\n",
              "          [0.5829, 0.4024, 0.2217,  ..., 0.1583, 0.4958, 0.6290],\n",
              "          [0.4433, 0.2790, 0.6591,  ..., 0.9573, 0.6639, 0.0642]]]])"
            ]
          },
          "metadata": {},
          "execution_count": 153
        }
      ]
    },
    {
      "cell_type": "code",
      "source": [
        "myrandom_tensor.shape , myrandom_tensor.ndim"
      ],
      "metadata": {
        "id": "9P0-DJ_yGOaf",
        "outputId": "bfe6c156-10a5-49b4-db4c-d19516073a2f",
        "colab": {
          "base_uri": "https://localhost:8080/"
        }
      },
      "execution_count": 154,
      "outputs": [
        {
          "output_type": "execute_result",
          "data": {
            "text/plain": [
              "(torch.Size([34, 3, 3, 43]), 4)"
            ]
          },
          "metadata": {},
          "execution_count": 154
        }
      ]
    }
  ]
}