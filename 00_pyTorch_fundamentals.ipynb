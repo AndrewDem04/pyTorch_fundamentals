{
  "nbformat": 4,
  "nbformat_minor": 0,
  "metadata": {
    "colab": {
      "provenance": [],
      "gpuType": "T4",
      "authorship_tag": "ABX9TyMYmxL5mtOo6ZqhnM+ivKIE",
      "include_colab_link": true
    },
    "kernelspec": {
      "name": "python3",
      "display_name": "Python 3"
    },
    "language_info": {
      "name": "python"
    },
    "accelerator": "GPU"
  },
  "cells": [
    {
      "cell_type": "markdown",
      "metadata": {
        "id": "view-in-github",
        "colab_type": "text"
      },
      "source": [
        "<a href=\"https://colab.research.google.com/github/AndrewDem04/pyTorch_fundamentals/blob/main/00_pyTorch_fundamentals.ipynb\" target=\"_parent\"><img src=\"https://colab.research.google.com/assets/colab-badge.svg\" alt=\"Open In Colab\"/></a>"
      ]
    },
    {
      "cell_type": "code",
      "execution_count": 4,
      "metadata": {
        "colab": {
          "base_uri": "https://localhost:8080/"
        },
        "id": "8vvQHGdliYSw",
        "outputId": "be123c77-ef17-4b37-b582-82d562bf278c"
      },
      "outputs": [
        {
          "output_type": "stream",
          "name": "stdout",
          "text": [
            "2.6.0+cu124\n"
          ]
        }
      ],
      "source": [
        "import torch\n",
        "print(torch.__version__)"
      ]
    },
    {
      "cell_type": "markdown",
      "source": [
        "## Introduction to Tensors\n"
      ],
      "metadata": {
        "id": "_DARb4tckgfN"
      }
    },
    {
      "cell_type": "markdown",
      "source": [
        "### scaral"
      ],
      "metadata": {
        "id": "gtlDV4yB6u1_"
      }
    },
    {
      "cell_type": "code",
      "source": [
        "# we have difrente types of tensors\n",
        "#You must see the -- torch.tensor documentation and what tensor is\n",
        "# scaral\n",
        "\n",
        "scalar = torch.tensor(7)\n",
        "scalar.item()"
      ],
      "metadata": {
        "colab": {
          "base_uri": "https://localhost:8080/"
        },
        "id": "lT65Tlmcjw1h",
        "outputId": "2eacf713-cc39-4794-c14a-5e78c0de583b"
      },
      "execution_count": 5,
      "outputs": [
        {
          "output_type": "execute_result",
          "data": {
            "text/plain": [
              "7"
            ]
          },
          "metadata": {},
          "execution_count": 5
        }
      ]
    },
    {
      "cell_type": "markdown",
      "source": [
        "### vector"
      ],
      "metadata": {
        "id": "YV5XQEq86fmd"
      }
    },
    {
      "cell_type": "code",
      "source": [
        "# vector\n",
        "vector = torch.tensor([7,7])\n",
        "vector"
      ],
      "metadata": {
        "colab": {
          "base_uri": "https://localhost:8080/"
        },
        "id": "_zvARckQ6rph",
        "outputId": "a513e6c5-923e-4f29-f40f-3b6d08c427d0"
      },
      "execution_count": 6,
      "outputs": [
        {
          "output_type": "execute_result",
          "data": {
            "text/plain": [
              "tensor([7, 7])"
            ]
          },
          "metadata": {},
          "execution_count": 6
        }
      ]
    },
    {
      "cell_type": "code",
      "source": [
        "# how meny dimension it have --ndim\n",
        "vector.ndim"
      ],
      "metadata": {
        "colab": {
          "base_uri": "https://localhost:8080/"
        },
        "id": "tEL2nx-q67z9",
        "outputId": "34d0f332-33cb-47b5-c95f-0c6156a0bae2"
      },
      "execution_count": 7,
      "outputs": [
        {
          "output_type": "execute_result",
          "data": {
            "text/plain": [
              "1"
            ]
          },
          "metadata": {},
          "execution_count": 7
        }
      ]
    },
    {
      "cell_type": "code",
      "source": [
        "vector.shape"
      ],
      "metadata": {
        "colab": {
          "base_uri": "https://localhost:8080/"
        },
        "id": "HMuo2-jo7UNk",
        "outputId": "51d874f0-448d-4ae8-99d5-49869a1f26d6"
      },
      "execution_count": 8,
      "outputs": [
        {
          "output_type": "execute_result",
          "data": {
            "text/plain": [
              "torch.Size([2])"
            ]
          },
          "metadata": {},
          "execution_count": 8
        }
      ]
    },
    {
      "cell_type": "code",
      "source": [
        "MATRIX = torch.tensor([[7,8],[9,10]])"
      ],
      "metadata": {
        "id": "Fu_HjQw87exu"
      },
      "execution_count": 9,
      "outputs": []
    },
    {
      "cell_type": "code",
      "source": [
        "MATRIX.ndim"
      ],
      "metadata": {
        "colab": {
          "base_uri": "https://localhost:8080/"
        },
        "id": "zhhgxP-B7zGU",
        "outputId": "c6412337-2669-4127-c5f6-21ae1a085ff5"
      },
      "execution_count": 10,
      "outputs": [
        {
          "output_type": "execute_result",
          "data": {
            "text/plain": [
              "2"
            ]
          },
          "metadata": {},
          "execution_count": 10
        }
      ]
    },
    {
      "cell_type": "code",
      "source": [
        "MATRIX[1]"
      ],
      "metadata": {
        "colab": {
          "base_uri": "https://localhost:8080/"
        },
        "id": "ah9NbXtw73pD",
        "outputId": "aca68cd8-2281-4009-9ed6-04c1a718c30b"
      },
      "execution_count": 11,
      "outputs": [
        {
          "output_type": "execute_result",
          "data": {
            "text/plain": [
              "tensor([ 9, 10])"
            ]
          },
          "metadata": {},
          "execution_count": 11
        }
      ]
    },
    {
      "cell_type": "code",
      "source": [
        "MATRIX.shape"
      ],
      "metadata": {
        "colab": {
          "base_uri": "https://localhost:8080/"
        },
        "id": "62bwVwsn8MEB",
        "outputId": "de338e75-1d15-4493-db99-53137f92ae94"
      },
      "execution_count": 12,
      "outputs": [
        {
          "output_type": "execute_result",
          "data": {
            "text/plain": [
              "torch.Size([2, 2])"
            ]
          },
          "metadata": {},
          "execution_count": 12
        }
      ]
    },
    {
      "cell_type": "code",
      "source": [
        "TENSOR = torch.tensor([[[1,2,3],[4,5,6],[7,8,9]]])"
      ],
      "metadata": {
        "id": "fKmTXO6R9v0v"
      },
      "execution_count": 13,
      "outputs": []
    },
    {
      "cell_type": "code",
      "source": [
        "TENSOR.ndim"
      ],
      "metadata": {
        "colab": {
          "base_uri": "https://localhost:8080/"
        },
        "id": "j1RLXoE9-GI5",
        "outputId": "12e302f7-47b3-42e6-d091-dc3faf25a4ff"
      },
      "execution_count": 14,
      "outputs": [
        {
          "output_type": "execute_result",
          "data": {
            "text/plain": [
              "3"
            ]
          },
          "metadata": {},
          "execution_count": 14
        }
      ]
    },
    {
      "cell_type": "code",
      "source": [
        "TENSOR.shape"
      ],
      "metadata": {
        "colab": {
          "base_uri": "https://localhost:8080/"
        },
        "id": "k1lvYlbJ-LRj",
        "outputId": "8d31d689-653a-4a31-be5e-385413958a47"
      },
      "execution_count": 15,
      "outputs": [
        {
          "output_type": "execute_result",
          "data": {
            "text/plain": [
              "torch.Size([1, 3, 3])"
            ]
          },
          "metadata": {},
          "execution_count": 15
        }
      ]
    },
    {
      "cell_type": "markdown",
      "source": [
        "###### Lets create one more tensor and expiramend with the ndim , shape and the indexing"
      ],
      "metadata": {
        "id": "1dTSbvzN_xpQ"
      }
    },
    {
      "cell_type": "code",
      "source": [
        "MYTENSOR = torch.tensor([[[1,2,3],[5,6,8],[2,5,6]],[[4,2,3],[5,66,8],[2,5,6]]])"
      ],
      "metadata": {
        "id": "U1Mqowv5AOSH"
      },
      "execution_count": 16,
      "outputs": []
    },
    {
      "cell_type": "code",
      "source": [
        "MYTENSOR.shape"
      ],
      "metadata": {
        "colab": {
          "base_uri": "https://localhost:8080/"
        },
        "id": "Ly29dUlYBBI4",
        "outputId": "e9e246a2-f3a3-483b-d89b-5d1ba14cacd4"
      },
      "execution_count": 17,
      "outputs": [
        {
          "output_type": "execute_result",
          "data": {
            "text/plain": [
              "torch.Size([2, 3, 3])"
            ]
          },
          "metadata": {},
          "execution_count": 17
        }
      ]
    },
    {
      "cell_type": "code",
      "source": [
        "MYTENSOR.ndim"
      ],
      "metadata": {
        "colab": {
          "base_uri": "https://localhost:8080/"
        },
        "id": "3YI1yRvkBHMI",
        "outputId": "6a5113ae-73d2-417c-f6ee-e875865e760d"
      },
      "execution_count": 18,
      "outputs": [
        {
          "output_type": "execute_result",
          "data": {
            "text/plain": [
              "3"
            ]
          },
          "metadata": {},
          "execution_count": 18
        }
      ]
    },
    {
      "cell_type": "code",
      "source": [
        "MYTENSOR[0]"
      ],
      "metadata": {
        "colab": {
          "base_uri": "https://localhost:8080/"
        },
        "id": "1JrqllM7BLD3",
        "outputId": "456e90fa-8f87-4ca9-a5c7-dce9ec56e39e"
      },
      "execution_count": 19,
      "outputs": [
        {
          "output_type": "execute_result",
          "data": {
            "text/plain": [
              "tensor([[1, 2, 3],\n",
              "        [5, 6, 8],\n",
              "        [2, 5, 6]])"
            ]
          },
          "metadata": {},
          "execution_count": 19
        }
      ]
    },
    {
      "cell_type": "code",
      "source": [
        "MYTENSOR[1]"
      ],
      "metadata": {
        "colab": {
          "base_uri": "https://localhost:8080/"
        },
        "id": "awMg4_zpBQ1j",
        "outputId": "72f57ad4-0dfc-4df3-df01-f87f8d9e6920"
      },
      "execution_count": 20,
      "outputs": [
        {
          "output_type": "execute_result",
          "data": {
            "text/plain": [
              "tensor([[ 4,  2,  3],\n",
              "        [ 5, 66,  8],\n",
              "        [ 2,  5,  6]])"
            ]
          },
          "metadata": {},
          "execution_count": 20
        }
      ]
    },
    {
      "cell_type": "code",
      "source": [
        "MYTENSOR[1,1]"
      ],
      "metadata": {
        "colab": {
          "base_uri": "https://localhost:8080/"
        },
        "id": "VwLN6PfkBivQ",
        "outputId": "982cb59e-5968-47fc-d445-f024fac0b98c"
      },
      "execution_count": 21,
      "outputs": [
        {
          "output_type": "execute_result",
          "data": {
            "text/plain": [
              "tensor([ 5, 66,  8])"
            ]
          },
          "metadata": {},
          "execution_count": 21
        }
      ]
    },
    {
      "cell_type": "markdown",
      "source": [
        "### Random tensors\n",
        "\n",
        "Random tensors are important because many neural networks:\n",
        "\n",
        "-start with random numbers\n",
        "-look at data\n",
        "-update random numbers\n",
        "-look at data\n",
        "-update"
      ],
      "metadata": {
        "id": "CrluA3hiCR6y"
      }
    },
    {
      "cell_type": "code",
      "source": [
        "# create random tensor size (3,4)\n",
        "\n",
        "random_tensor = torch.rand(3,4)\n",
        "random_tensor"
      ],
      "metadata": {
        "colab": {
          "base_uri": "https://localhost:8080/"
        },
        "id": "-5bxbUxtCQFW",
        "outputId": "7a78df18-2c89-4238-85c7-d3c80e1e99ed"
      },
      "execution_count": 22,
      "outputs": [
        {
          "output_type": "execute_result",
          "data": {
            "text/plain": [
              "tensor([[0.1019, 0.9789, 0.5924, 0.7655],\n",
              "        [0.3269, 0.0632, 0.3851, 0.2062],\n",
              "        [0.3493, 0.9327, 0.3028, 0.7776]])"
            ]
          },
          "metadata": {},
          "execution_count": 22
        }
      ]
    },
    {
      "cell_type": "code",
      "source": [
        "random_tensor.ndim"
      ],
      "metadata": {
        "colab": {
          "base_uri": "https://localhost:8080/"
        },
        "id": "2z-cY2lFDAS4",
        "outputId": "483f6660-395f-4935-c4df-6302b5ac857a"
      },
      "execution_count": 23,
      "outputs": [
        {
          "output_type": "execute_result",
          "data": {
            "text/plain": [
              "2"
            ]
          },
          "metadata": {},
          "execution_count": 23
        }
      ]
    },
    {
      "cell_type": "code",
      "source": [
        "random_tensor.shape"
      ],
      "metadata": {
        "colab": {
          "base_uri": "https://localhost:8080/"
        },
        "id": "sgs4CFlNDAfR",
        "outputId": "38a61fe6-6b2c-463a-be8a-e1e236299021"
      },
      "execution_count": 24,
      "outputs": [
        {
          "output_type": "execute_result",
          "data": {
            "text/plain": [
              "torch.Size([3, 4])"
            ]
          },
          "metadata": {},
          "execution_count": 24
        }
      ]
    },
    {
      "cell_type": "code",
      "source": [
        "# Create a random tensor with similar shape to an image tensor\n",
        "random_image_size_tensor = torch.rand(size=(224,224,3)) # height,width , color channels (R,G,B)\n",
        "random_image_size_tensor"
      ],
      "metadata": {
        "colab": {
          "base_uri": "https://localhost:8080/"
        },
        "id": "Sn6Jqg0cDAob",
        "outputId": "97af034b-332b-4ec6-84ed-7b2ed3d906b7"
      },
      "execution_count": 25,
      "outputs": [
        {
          "output_type": "execute_result",
          "data": {
            "text/plain": [
              "tensor([[[0.3426, 0.2813, 0.1326],\n",
              "         [0.5062, 0.2244, 0.4301],\n",
              "         [0.0510, 0.6748, 0.3066],\n",
              "         ...,\n",
              "         [0.6906, 0.2122, 0.8620],\n",
              "         [0.4996, 0.0172, 0.9616],\n",
              "         [0.5711, 0.9955, 0.1924]],\n",
              "\n",
              "        [[0.2455, 0.3881, 0.5250],\n",
              "         [0.9644, 0.7069, 0.6361],\n",
              "         [0.2218, 0.1849, 0.3464],\n",
              "         ...,\n",
              "         [0.3768, 0.2717, 0.2332],\n",
              "         [0.9344, 0.0770, 0.8455],\n",
              "         [0.0788, 0.2635, 0.4002]],\n",
              "\n",
              "        [[0.9636, 0.2908, 0.9174],\n",
              "         [0.3050, 0.6083, 0.5826],\n",
              "         [0.6902, 0.9467, 0.7004],\n",
              "         ...,\n",
              "         [0.9953, 0.0302, 0.6927],\n",
              "         [0.7121, 0.4155, 0.3091],\n",
              "         [0.7967, 0.3709, 0.9819]],\n",
              "\n",
              "        ...,\n",
              "\n",
              "        [[0.0240, 0.2817, 0.2539],\n",
              "         [0.9896, 0.3017, 0.8284],\n",
              "         [0.5848, 0.2766, 0.8452],\n",
              "         ...,\n",
              "         [0.7094, 0.9827, 0.9603],\n",
              "         [0.7870, 0.2737, 0.5417],\n",
              "         [0.8938, 0.3606, 0.5002]],\n",
              "\n",
              "        [[0.2183, 0.7177, 0.1101],\n",
              "         [0.8109, 0.5312, 0.3409],\n",
              "         [0.9870, 0.8664, 0.4738],\n",
              "         ...,\n",
              "         [0.9099, 0.4880, 0.3463],\n",
              "         [0.2316, 0.2627, 0.1007],\n",
              "         [0.9956, 0.8926, 0.3719]],\n",
              "\n",
              "        [[0.8566, 0.2214, 0.3430],\n",
              "         [0.5886, 0.3987, 0.5377],\n",
              "         [0.2949, 0.3299, 0.7783],\n",
              "         ...,\n",
              "         [0.7216, 0.4037, 0.5507],\n",
              "         [0.1563, 0.1798, 0.1873],\n",
              "         [0.2315, 0.5960, 0.6381]]])"
            ]
          },
          "metadata": {},
          "execution_count": 25
        }
      ]
    },
    {
      "cell_type": "code",
      "source": [
        "random_image_size_tensor.shape , random_image_size_tensor.ndim"
      ],
      "metadata": {
        "colab": {
          "base_uri": "https://localhost:8080/"
        },
        "id": "enM-PeScDn6l",
        "outputId": "00ebd636-9111-4ab9-c748-c96bf6a16c63"
      },
      "execution_count": 26,
      "outputs": [
        {
          "output_type": "execute_result",
          "data": {
            "text/plain": [
              "(torch.Size([224, 224, 3]), 3)"
            ]
          },
          "metadata": {},
          "execution_count": 26
        }
      ]
    },
    {
      "cell_type": "code",
      "source": [
        "# lets create my own random tensor\n",
        "\n",
        "myrandom_tensor = torch.rand(34,3,3,43)\n",
        "myrandom_tensor"
      ],
      "metadata": {
        "id": "j6qScIU3EkYf",
        "outputId": "c4909a16-4bf3-4b09-e4d9-dee6e60d9fa7",
        "colab": {
          "base_uri": "https://localhost:8080/"
        }
      },
      "execution_count": 27,
      "outputs": [
        {
          "output_type": "execute_result",
          "data": {
            "text/plain": [
              "tensor([[[[0.4518, 0.4137, 0.2294,  ..., 0.8359, 0.2085, 0.4510],\n",
              "          [0.1851, 0.4969, 0.5585,  ..., 0.8311, 0.3628, 0.1894],\n",
              "          [0.4556, 0.5305, 0.1036,  ..., 0.8341, 0.2885, 0.8794]],\n",
              "\n",
              "         [[0.6776, 0.9416, 0.8386,  ..., 0.8900, 0.2310, 0.1762],\n",
              "          [0.8881, 0.9279, 0.1553,  ..., 0.9000, 0.4662, 0.9562],\n",
              "          [0.0370, 0.5624, 0.2977,  ..., 0.3296, 0.7504, 0.0946]],\n",
              "\n",
              "         [[0.1685, 0.5049, 0.8133,  ..., 0.7867, 0.1938, 0.8936],\n",
              "          [0.4020, 0.2584, 0.7552,  ..., 0.4728, 0.4757, 0.4365],\n",
              "          [0.6898, 0.5972, 0.1817,  ..., 0.8559, 0.7356, 0.9300]]],\n",
              "\n",
              "\n",
              "        [[[0.5671, 0.1837, 0.0283,  ..., 0.8269, 0.8795, 0.2924],\n",
              "          [0.3434, 0.9990, 0.3692,  ..., 0.4878, 0.7198, 0.3606],\n",
              "          [0.8250, 0.4764, 0.5392,  ..., 0.9563, 0.9649, 0.6370]],\n",
              "\n",
              "         [[0.5557, 0.9306, 0.7143,  ..., 0.5806, 0.8904, 0.6176],\n",
              "          [0.1703, 0.0476, 0.8959,  ..., 0.2328, 0.1238, 0.6540],\n",
              "          [0.8108, 0.0814, 0.9626,  ..., 0.2114, 0.0553, 0.0905]],\n",
              "\n",
              "         [[0.6733, 0.6649, 0.3089,  ..., 0.0404, 0.9889, 0.3329],\n",
              "          [0.8790, 0.8456, 0.5721,  ..., 0.6702, 0.0363, 0.9890],\n",
              "          [0.3801, 0.3210, 0.4098,  ..., 0.6049, 0.6969, 0.1304]]],\n",
              "\n",
              "\n",
              "        [[[0.1818, 0.8608, 0.9742,  ..., 0.9744, 0.3601, 0.0921],\n",
              "          [0.5977, 0.7508, 0.0411,  ..., 0.5997, 0.7764, 0.8549],\n",
              "          [0.1189, 0.4525, 0.8243,  ..., 0.4737, 0.9054, 0.3980]],\n",
              "\n",
              "         [[0.7284, 0.6073, 0.5231,  ..., 0.4881, 0.5735, 0.7617],\n",
              "          [0.5759, 0.1976, 0.3925,  ..., 0.6114, 0.7265, 0.2624],\n",
              "          [0.5750, 0.9966, 0.4397,  ..., 0.0496, 0.5531, 0.2729]],\n",
              "\n",
              "         [[0.6454, 0.3025, 0.7243,  ..., 0.9986, 0.2745, 0.5723],\n",
              "          [0.9086, 0.9511, 0.5814,  ..., 0.6808, 0.8622, 0.5285],\n",
              "          [0.6111, 0.2904, 0.5964,  ..., 0.4977, 0.1088, 0.8758]]],\n",
              "\n",
              "\n",
              "        ...,\n",
              "\n",
              "\n",
              "        [[[0.8302, 0.3335, 0.4847,  ..., 0.9467, 0.1004, 0.2843],\n",
              "          [0.3822, 0.6819, 0.6200,  ..., 0.3362, 0.6265, 0.6105],\n",
              "          [0.3744, 0.2952, 0.4746,  ..., 0.6761, 0.8338, 0.3016]],\n",
              "\n",
              "         [[0.1500, 0.8192, 0.2324,  ..., 0.3403, 0.9145, 0.8846],\n",
              "          [0.1184, 0.1519, 0.5451,  ..., 0.1395, 0.4450, 0.6655],\n",
              "          [0.0718, 0.4765, 0.8543,  ..., 0.0815, 0.0349, 0.2668]],\n",
              "\n",
              "         [[0.1329, 0.3613, 0.6853,  ..., 0.3133, 0.9875, 0.3702],\n",
              "          [0.0025, 0.7834, 0.1254,  ..., 0.1840, 0.2385, 0.8045],\n",
              "          [0.1706, 0.1422, 0.7157,  ..., 0.8839, 0.8317, 0.9800]]],\n",
              "\n",
              "\n",
              "        [[[0.5355, 0.5046, 0.3070,  ..., 0.2406, 0.5328, 0.7838],\n",
              "          [0.2127, 0.1335, 0.8139,  ..., 0.4770, 0.5287, 0.2374],\n",
              "          [0.5957, 0.8973, 0.6392,  ..., 0.7443, 0.6745, 0.3589]],\n",
              "\n",
              "         [[0.8357, 0.7587, 0.9051,  ..., 0.9140, 0.2926, 0.3005],\n",
              "          [0.3108, 0.2070, 0.7026,  ..., 0.3658, 0.3994, 0.8390],\n",
              "          [0.2817, 0.1330, 0.6009,  ..., 0.3221, 0.8695, 0.5025]],\n",
              "\n",
              "         [[0.1862, 0.6447, 0.0594,  ..., 0.1506, 0.1055, 0.4060],\n",
              "          [0.4929, 0.8750, 0.7353,  ..., 0.6596, 0.8415, 0.4457],\n",
              "          [0.4150, 0.3784, 0.3697,  ..., 0.4576, 0.7991, 0.4430]]],\n",
              "\n",
              "\n",
              "        [[[0.8180, 0.2508, 0.6275,  ..., 0.3131, 0.3061, 0.6278],\n",
              "          [0.1846, 0.5932, 0.1930,  ..., 0.9010, 0.8522, 0.6708],\n",
              "          [0.4813, 0.4048, 0.7083,  ..., 0.7128, 0.8285, 0.4584]],\n",
              "\n",
              "         [[0.7356, 0.4824, 0.8008,  ..., 0.8189, 0.1647, 0.3380],\n",
              "          [0.9549, 0.7390, 0.7454,  ..., 0.5268, 0.7030, 0.8751],\n",
              "          [0.3813, 0.6598, 0.6191,  ..., 0.5922, 0.0903, 0.3761]],\n",
              "\n",
              "         [[0.0012, 0.3103, 0.8049,  ..., 0.2599, 0.0799, 0.7424],\n",
              "          [0.1403, 0.0102, 0.7314,  ..., 0.7263, 0.5045, 0.1115],\n",
              "          [0.6702, 0.0429, 0.4102,  ..., 0.4056, 0.9127, 0.1205]]]])"
            ]
          },
          "metadata": {},
          "execution_count": 27
        }
      ]
    },
    {
      "cell_type": "code",
      "source": [
        "myrandom_tensor.shape , myrandom_tensor.ndim"
      ],
      "metadata": {
        "id": "9P0-DJ_yGOaf",
        "outputId": "b15823cb-9559-4df3-9c02-d07926b9c418",
        "colab": {
          "base_uri": "https://localhost:8080/"
        }
      },
      "execution_count": 28,
      "outputs": [
        {
          "output_type": "execute_result",
          "data": {
            "text/plain": [
              "(torch.Size([34, 3, 3, 43]), 4)"
            ]
          },
          "metadata": {},
          "execution_count": 28
        }
      ]
    },
    {
      "cell_type": "markdown",
      "source": [
        "# ZEROS AND ONES"
      ],
      "metadata": {
        "id": "J67Cw7_DRuuA"
      }
    },
    {
      "cell_type": "code",
      "source": [
        "ZEROS_TENSOR = torch.zeros(size =(2,3))\n",
        "ZEROS_TENSOR"
      ],
      "metadata": {
        "id": "GkaenntrRUZH",
        "outputId": "690dc6a1-a2d2-432f-ba54-2c07befbd284",
        "colab": {
          "base_uri": "https://localhost:8080/"
        }
      },
      "execution_count": 29,
      "outputs": [
        {
          "output_type": "execute_result",
          "data": {
            "text/plain": [
              "tensor([[0., 0., 0.],\n",
              "        [0., 0., 0.]])"
            ]
          },
          "metadata": {},
          "execution_count": 29
        }
      ]
    },
    {
      "cell_type": "code",
      "source": [
        "ONES_TENSOR = torch.ones(2,3)\n",
        "ONES_TENSOR , ONES_TENSOR.dtype"
      ],
      "metadata": {
        "id": "XrpWtdFER-ys",
        "outputId": "f759e317-b18f-4f1c-c063-04fea05f189a",
        "colab": {
          "base_uri": "https://localhost:8080/"
        }
      },
      "execution_count": 30,
      "outputs": [
        {
          "output_type": "execute_result",
          "data": {
            "text/plain": [
              "(tensor([[1., 1., 1.],\n",
              "         [1., 1., 1.]]),\n",
              " torch.float32)"
            ]
          },
          "metadata": {},
          "execution_count": 30
        }
      ]
    },
    {
      "cell_type": "markdown",
      "source": [
        "### Creating a range of tensors and tensors-like"
      ],
      "metadata": {
        "id": "-9gzgQI2Sjxj"
      }
    },
    {
      "cell_type": "code",
      "source": [
        "# Lets use torch.arange() the old functions was range()\n",
        "\n",
        "one_to_ten = torch.arange(start=1,end= 11)\n",
        "one_to_ten"
      ],
      "metadata": {
        "id": "ToDyBCDDSi7p",
        "outputId": "87f3d877-5b84-425e-de68-98d574a1088a",
        "colab": {
          "base_uri": "https://localhost:8080/"
        }
      },
      "execution_count": 31,
      "outputs": [
        {
          "output_type": "execute_result",
          "data": {
            "text/plain": [
              "tensor([ 1,  2,  3,  4,  5,  6,  7,  8,  9, 10])"
            ]
          },
          "metadata": {},
          "execution_count": 31
        }
      ]
    },
    {
      "cell_type": "code",
      "source": [
        "with_steps = torch.arange(start=1,end= 11 , step= 3)\n",
        "with_steps"
      ],
      "metadata": {
        "id": "owhd58xNSr7g",
        "outputId": "7ef8ca8c-c014-4b19-c14d-7c0465732c56",
        "colab": {
          "base_uri": "https://localhost:8080/"
        }
      },
      "execution_count": 32,
      "outputs": [
        {
          "output_type": "execute_result",
          "data": {
            "text/plain": [
              "tensor([ 1,  4,  7, 10])"
            ]
          },
          "metadata": {},
          "execution_count": 32
        }
      ]
    },
    {
      "cell_type": "code",
      "source": [
        "# Creating tensors  like\n",
        "\n",
        "ten_zeros = torch.zeros_like(input=one_to_ten)\n",
        "ten_zeros"
      ],
      "metadata": {
        "id": "eevJAkEwSr_b",
        "outputId": "9a7da610-0bba-4c14-f50a-34acdd5640f7",
        "colab": {
          "base_uri": "https://localhost:8080/"
        }
      },
      "execution_count": 33,
      "outputs": [
        {
          "output_type": "execute_result",
          "data": {
            "text/plain": [
              "tensor([0, 0, 0, 0, 0, 0, 0, 0, 0, 0])"
            ]
          },
          "metadata": {},
          "execution_count": 33
        }
      ]
    },
    {
      "cell_type": "markdown",
      "source": [
        "### Tensor datatypes"
      ],
      "metadata": {
        "id": "i_Ic99kvUWe9"
      }
    },
    {
      "cell_type": "code",
      "source": [
        "# Float 32 tensor\n",
        "# When a number takes less memory , you can calculate faster ,\n",
        "# when a number is larger you can calculate more acurate\n",
        "\n",
        "\n",
        "float_32_tensor = torch.tensor([3.0,6.0,9.0], dtype=None, # What datatype is the tensor\n",
        "                               device=None, # What device is your tensor\n",
        "                               requires_grad=False) # whether or not to track gradients with this tensors operations\n",
        "float_32_tensor"
      ],
      "metadata": {
        "id": "oWeMvqmWThBp",
        "outputId": "e60ee85b-646a-44de-9aab-bd0bf0cc895f",
        "colab": {
          "base_uri": "https://localhost:8080/"
        }
      },
      "execution_count": 34,
      "outputs": [
        {
          "output_type": "execute_result",
          "data": {
            "text/plain": [
              "tensor([3., 6., 9.])"
            ]
          },
          "metadata": {},
          "execution_count": 34
        }
      ]
    },
    {
      "cell_type": "code",
      "source": [
        "float_16_tensor = float_32_tensor.type(torch.float16)\n",
        "float_16_tensor"
      ],
      "metadata": {
        "id": "dRGsQe5dXLuc",
        "colab": {
          "base_uri": "https://localhost:8080/"
        },
        "outputId": "65dab9db-6b6a-433f-8c1f-3e418071d8a6"
      },
      "execution_count": 35,
      "outputs": [
        {
          "output_type": "execute_result",
          "data": {
            "text/plain": [
              "tensor([3., 6., 9.], dtype=torch.float16)"
            ]
          },
          "metadata": {},
          "execution_count": 35
        }
      ]
    },
    {
      "cell_type": "code",
      "source": [
        "# sometimes it works but not every time , in this case it works\n",
        "float_16_tensor * float_32_tensor"
      ],
      "metadata": {
        "colab": {
          "base_uri": "https://localhost:8080/"
        },
        "id": "aZSzvEXe9cPJ",
        "outputId": "6988f28c-2237-43e6-acee-c1870a1540d2"
      },
      "execution_count": 36,
      "outputs": [
        {
          "output_type": "execute_result",
          "data": {
            "text/plain": [
              "tensor([ 9., 36., 81.])"
            ]
          },
          "metadata": {},
          "execution_count": 36
        }
      ]
    },
    {
      "cell_type": "markdown",
      "source": [
        "### Getting inforamation from tensors\n",
        "\n",
        "1. if tensor is not right datatype - tensor.dtype\n",
        "2. if tensor not right shape - tensor.shape\n",
        "3. if tensor not on the right device - tensor.device"
      ],
      "metadata": {
        "id": "QC8wS4Li-lKl"
      }
    },
    {
      "cell_type": "code",
      "source": [
        "# Creating a tensor\n",
        "\n",
        "some_tensor = torch.rand(3,4)\n",
        "some_tensor"
      ],
      "metadata": {
        "colab": {
          "base_uri": "https://localhost:8080/"
        },
        "id": "Mc0hXCMd_QIG",
        "outputId": "cde52140-45b0-4cd9-e514-aefd404d90c4"
      },
      "execution_count": 37,
      "outputs": [
        {
          "output_type": "execute_result",
          "data": {
            "text/plain": [
              "tensor([[0.4850, 0.5913, 0.7511, 0.2575],\n",
              "        [0.0602, 0.2061, 0.3508, 0.3094],\n",
              "        [0.4812, 0.6330, 0.5203, 0.5143]])"
            ]
          },
          "metadata": {},
          "execution_count": 37
        }
      ]
    },
    {
      "cell_type": "code",
      "source": [
        "# Find out details about the tensor\n",
        "print(some_tensor)\n",
        "print(f\"Datatype of tensor: {some_tensor.dtype}\")\n",
        "print(f\"Shape of tensor: {some_tensor.shape} Its also the same thing with the function size() {some_tensor.size()}\")\n",
        "print(f\"Device tensor is on: {some_tensor.device}\")"
      ],
      "metadata": {
        "colab": {
          "base_uri": "https://localhost:8080/"
        },
        "id": "W73VY1r1_XLY",
        "outputId": "7b78eeb4-d301-4d24-9471-892b8dbd883e"
      },
      "execution_count": 38,
      "outputs": [
        {
          "output_type": "stream",
          "name": "stdout",
          "text": [
            "tensor([[0.4850, 0.5913, 0.7511, 0.2575],\n",
            "        [0.0602, 0.2061, 0.3508, 0.3094],\n",
            "        [0.4812, 0.6330, 0.5203, 0.5143]])\n",
            "Datatype of tensor: torch.float32\n",
            "Shape of tensor: torch.Size([3, 4]) Its also the same thing with the function size() torch.Size([3, 4])\n",
            "Device tensor is on: cpu\n"
          ]
        }
      ]
    },
    {
      "cell_type": "code",
      "source": [
        "some_tensor.cuda()\n",
        "print(f\"Device tensor is on: {some_tensor.device}\")"
      ],
      "metadata": {
        "colab": {
          "base_uri": "https://localhost:8080/"
        },
        "id": "SGtoVgzOACU9",
        "outputId": "0dcd8237-f874-43e5-a861-eee8e5d7d148"
      },
      "execution_count": 39,
      "outputs": [
        {
          "output_type": "stream",
          "name": "stdout",
          "text": [
            "Device tensor is on: cpu\n"
          ]
        }
      ]
    },
    {
      "cell_type": "code",
      "source": [
        "!nvidia-smi"
      ],
      "metadata": {
        "colab": {
          "base_uri": "https://localhost:8080/"
        },
        "id": "PZTt5cpGBWD6",
        "outputId": "7179eec8-b3f6-452e-8d19-4f41c7ed67e8"
      },
      "execution_count": 40,
      "outputs": [
        {
          "output_type": "stream",
          "name": "stdout",
          "text": [
            "Fri Jul 18 16:15:31 2025       \n",
            "+-----------------------------------------------------------------------------------------+\n",
            "| NVIDIA-SMI 550.54.15              Driver Version: 550.54.15      CUDA Version: 12.4     |\n",
            "|-----------------------------------------+------------------------+----------------------+\n",
            "| GPU  Name                 Persistence-M | Bus-Id          Disp.A | Volatile Uncorr. ECC |\n",
            "| Fan  Temp   Perf          Pwr:Usage/Cap |           Memory-Usage | GPU-Util  Compute M. |\n",
            "|                                         |                        |               MIG M. |\n",
            "|=========================================+========================+======================|\n",
            "|   0  Tesla T4                       Off |   00000000:00:04.0 Off |                    0 |\n",
            "| N/A   66C    P0             34W /   70W |     104MiB /  15360MiB |      3%      Default |\n",
            "|                                         |                        |                  N/A |\n",
            "+-----------------------------------------+------------------------+----------------------+\n",
            "                                                                                         \n",
            "+-----------------------------------------------------------------------------------------+\n",
            "| Processes:                                                                              |\n",
            "|  GPU   GI   CI        PID   Type   Process name                              GPU Memory |\n",
            "|        ID   ID                                                               Usage      |\n",
            "|=========================================================================================|\n",
            "+-----------------------------------------------------------------------------------------+\n"
          ]
        }
      ]
    },
    {
      "cell_type": "code",
      "source": [
        "int_32_tensor = torch.tensor([3,6,9],dtype=torch.int64)\n",
        "int_32_tensor"
      ],
      "metadata": {
        "id": "kgozNXi2VAl0"
      },
      "execution_count": null,
      "outputs": []
    }
  ]
}